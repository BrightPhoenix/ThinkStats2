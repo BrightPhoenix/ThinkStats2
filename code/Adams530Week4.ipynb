{
 "cells": [
  {
   "cell_type": "markdown",
   "id": "2679e73c",
   "metadata": {},
   "source": [
    "Kimberly Adams <br>\n",
    "DSC 530\n",
    "September 2022"
   ]
  },
  {
   "cell_type": "markdown",
   "id": "96c6f4e3",
   "metadata": {},
   "source": [
    "Download data files from github"
   ]
  },
  {
   "cell_type": "code",
   "execution_count": 140,
   "id": "57fc84f0",
   "metadata": {},
   "outputs": [],
   "source": [
    "from os.path import basename, exists\n",
    "\n",
    "\n",
    "def download(url):\n",
    "    filename = basename(url)\n",
    "    if not exists(filename):\n",
    "        from urllib.request import urlretrieve\n",
    "\n",
    "        local, _ = urlretrieve(url, filename)\n",
    "        print(\"Downloaded \" + local)\n",
    "\n",
    "\n",
    "download(\"https://github.com/AllenDowney/ThinkStats2/raw/master/code/thinkstats2.py\")\n",
    "download(\"https://github.com/AllenDowney/ThinkStats2/raw/master/code/thinkplot.py\")\n",
    "download(\"https://github.com/AllenDowney/ThinkStats2/raw/master/code/nsfg.py\")\n",
    "download(\"https://github.com/AllenDowney/ThinkStats2/raw/master/code/first.py\")\n",
    "\n",
    "\n",
    "download(\"https://github.com/AllenDowney/ThinkStats2/raw/master/code/2002FemPreg.dct\")\n",
    "download(\n",
    "    \"https://github.com/AllenDowney/ThinkStats2/raw/master/code/2002FemPreg.dat.gz\"\n",
    ")"
   ]
  },
  {
   "cell_type": "code",
   "execution_count": 141,
   "id": "c0cc8225",
   "metadata": {},
   "outputs": [],
   "source": [
    "# Import numpy package\n",
    "import numpy as np"
   ]
  },
  {
   "cell_type": "code",
   "execution_count": 142,
   "id": "da95a9a7",
   "metadata": {},
   "outputs": [],
   "source": [
    "# Import datasets (nsfg and first) and author's functions (thinkstats2 and thinkplot)\n",
    "import nsfg\n",
    "import first\n",
    "import thinkstats2\n",
    "import thinkplot"
   ]
  },
  {
   "cell_type": "code",
   "execution_count": 143,
   "id": "e58600dd",
   "metadata": {},
   "outputs": [
    {
     "data": {
      "text/plain": [
       "['adj_mod_basewgt',\n",
       " 'ageatend',\n",
       " 'agecon',\n",
       " 'agecon_i',\n",
       " 'agepreg',\n",
       " 'agepreg_i',\n",
       " 'ageqtnur',\n",
       " 'ageqtnur2',\n",
       " 'ageqtnur3',\n",
       " 'ageqtnur_n',\n",
       " 'ageqtnur_n2',\n",
       " 'ageqtnur_n3',\n",
       " 'ageqtnur_p',\n",
       " 'ageqtnur_p2',\n",
       " 'ageqtnur_p3',\n",
       " 'ager',\n",
       " 'ager_i',\n",
       " 'agescrn',\n",
       " 'alivenow',\n",
       " 'alivenow2',\n",
       " 'alivenow3',\n",
       " 'anynurse',\n",
       " 'anynurse2',\n",
       " 'anynurse3',\n",
       " 'anyusint',\n",
       " 'babysex',\n",
       " 'babysex2',\n",
       " 'babysex3',\n",
       " 'basewgt',\n",
       " 'bfeedwks',\n",
       " 'bfeedwks_i',\n",
       " 'bgnprena',\n",
       " 'birthord',\n",
       " 'birthord_i',\n",
       " 'birthplc',\n",
       " 'birthwgt_lb',\n",
       " 'birthwgt_lb2',\n",
       " 'birthwgt_lb3',\n",
       " 'birthwgt_oz',\n",
       " 'birthwgt_oz2',\n",
       " 'birthwgt_oz3',\n",
       " 'bpa_bdscheck1',\n",
       " 'bpa_bdscheck2',\n",
       " 'bpa_bdscheck3',\n",
       " 'brnout',\n",
       " 'caseid',\n",
       " 'cmbabdob',\n",
       " 'cmbirth',\n",
       " 'cmfstprg',\n",
       " 'cmintfin',\n",
       " 'cmintfincr',\n",
       " 'cmintfinop',\n",
       " 'cmintstr',\n",
       " 'cmintstrcr',\n",
       " 'cmintstrop',\n",
       " 'cmintvw',\n",
       " 'cmkidied',\n",
       " 'cmkidied2',\n",
       " 'cmkidied3',\n",
       " 'cmkidlft',\n",
       " 'cmkidlft2',\n",
       " 'cmkidlft3',\n",
       " 'cmlastlb',\n",
       " 'cmlstprg',\n",
       " 'cmotpreg',\n",
       " 'cmprgbeg',\n",
       " 'cmprgend',\n",
       " 'cnfrmno',\n",
       " 'cohpbeg',\n",
       " 'cohpend',\n",
       " 'datecon',\n",
       " 'datecon_i',\n",
       " 'datend',\n",
       " 'datend_i',\n",
       " 'didwork',\n",
       " 'dk1gest',\n",
       " 'dk2gest',\n",
       " 'dk3gest',\n",
       " 'educat',\n",
       " 'educat_i',\n",
       " 'evuseint',\n",
       " 'fedsolid',\n",
       " 'fedsolid2',\n",
       " 'fedsolid3',\n",
       " 'feelinpg',\n",
       " 'finalwgt',\n",
       " 'flgdkmo1',\n",
       " 'fmarcon5',\n",
       " 'fmarcon5_i',\n",
       " 'fmarital',\n",
       " 'fmarital_i',\n",
       " 'fmarout5',\n",
       " 'fmarout5_i',\n",
       " 'frsteatd',\n",
       " 'frsteatd2',\n",
       " 'frsteatd3',\n",
       " 'frsteatd_n',\n",
       " 'frsteatd_n2',\n",
       " 'frsteatd_n3',\n",
       " 'frsteatd_p',\n",
       " 'frsteatd_p2',\n",
       " 'frsteatd_p3',\n",
       " 'gestasun_m',\n",
       " 'gestasun_w',\n",
       " 'getprena',\n",
       " 'hieduc',\n",
       " 'hieduc_i',\n",
       " 'hispanic',\n",
       " 'hispanic_i',\n",
       " 'hisprace',\n",
       " 'hisprace_i',\n",
       " 'howpreg_n',\n",
       " 'howpreg_p',\n",
       " 'hpageend',\n",
       " 'hpagelb',\n",
       " 'hpwnold',\n",
       " 'insuranc',\n",
       " 'insuranc_i',\n",
       " 'kidage',\n",
       " 'knewpreg',\n",
       " 'laborfor',\n",
       " 'laborfor_i',\n",
       " 'lastage',\n",
       " 'lastage2',\n",
       " 'lastage3',\n",
       " 'lbw1',\n",
       " 'lbw1_i',\n",
       " 'learnprg',\n",
       " 'learnprg_i',\n",
       " 'legagree',\n",
       " 'legagree2',\n",
       " 'legagree3',\n",
       " 'livehere',\n",
       " 'livehere2',\n",
       " 'livehere3',\n",
       " 'lobthwgt',\n",
       " 'lobthwgt2',\n",
       " 'lobthwgt3',\n",
       " 'lpnctri',\n",
       " 'ltrimest',\n",
       " 'matchfound',\n",
       " 'matchfound2',\n",
       " 'matchfound3',\n",
       " 'maternlv',\n",
       " 'maternlv_i',\n",
       " 'matleave',\n",
       " 'matweeks',\n",
       " 'metro',\n",
       " 'metro_i',\n",
       " 'moscurrp',\n",
       " 'mosgest',\n",
       " 'multbrth',\n",
       " 'nbrnaliv',\n",
       " 'nowprgdk',\n",
       " 'npostsmk',\n",
       " 'oldwantp',\n",
       " 'oldwantp_i',\n",
       " 'oldwantr',\n",
       " 'oldwantr_i',\n",
       " 'outcome',\n",
       " 'outcome_i',\n",
       " 'parenend',\n",
       " 'parenend2',\n",
       " 'parenend3',\n",
       " 'parity',\n",
       " 'parity_i',\n",
       " 'paybirth1',\n",
       " 'paybirth2',\n",
       " 'paybirth3',\n",
       " 'paydeliv',\n",
       " 'paydeliv_i',\n",
       " 'pmarpreg',\n",
       " 'pmarpreg_i',\n",
       " 'pncarewk',\n",
       " 'pncarewk_i',\n",
       " 'pnctrim',\n",
       " 'postsmks',\n",
       " 'poverty',\n",
       " 'poverty_i',\n",
       " 'pregend1',\n",
       " 'pregend2',\n",
       " 'pregnum',\n",
       " 'pregnum_i',\n",
       " 'pregordr',\n",
       " 'prglngth',\n",
       " 'prglngth_i',\n",
       " 'prgoutcome',\n",
       " 'priorsmk',\n",
       " 'probbabe',\n",
       " 'pubassis',\n",
       " 'pubassis_i',\n",
       " 'quitnurs',\n",
       " 'quitnurs2',\n",
       " 'quitnurs3',\n",
       " 'race',\n",
       " 'race_i',\n",
       " 'rcurpreg',\n",
       " 'rcurpreg_i',\n",
       " 'religion',\n",
       " 'religion_i',\n",
       " 'resnouse',\n",
       " 'rmarital',\n",
       " 'rmarital_i',\n",
       " 'rmarout6',\n",
       " 'rmarout6_i',\n",
       " 'secu_p',\n",
       " 'sest',\n",
       " 'stopduse',\n",
       " 'tellfath',\n",
       " 'timingok',\n",
       " 'timokhp',\n",
       " 'toosoon_n',\n",
       " 'toosoon_p',\n",
       " 'totalwgt_lb',\n",
       " 'trimestr',\n",
       " 'tryscale',\n",
       " 'wantbld2',\n",
       " 'wantbold',\n",
       " 'wantpart',\n",
       " 'wantpart_i',\n",
       " 'wantresp',\n",
       " 'wantresp_i',\n",
       " 'wantscal',\n",
       " 'weeksdk',\n",
       " 'whatmeth01',\n",
       " 'whatmeth02',\n",
       " 'whatmeth03',\n",
       " 'whatmeth04',\n",
       " 'whentell',\n",
       " 'wherenow',\n",
       " 'wherenow2',\n",
       " 'wherenow3',\n",
       " 'whynouse1',\n",
       " 'whynouse2',\n",
       " 'whynouse3',\n",
       " 'whyprg1',\n",
       " 'whyprg2',\n",
       " 'whystopd',\n",
       " 'wksgest',\n",
       " 'workborn',\n",
       " 'workpreg',\n",
       " 'wthpart1',\n",
       " 'wthpart2',\n",
       " 'yrstrus']"
      ]
     },
     "execution_count": 143,
     "metadata": {},
     "output_type": "execute_result"
    }
   ],
   "source": [
    "# Read pregnancy data into a dataframe named 'preg'\n",
    "preg = nsfg.ReadFemPreg()\n",
    "\n",
    "# Filter preg dataframe into new dataframe 'live' containing only live births \n",
    "live = preg[preg.outcome == 1]\n",
    "\n",
    "# Print list of column names\n",
    "sorted(live)"
   ]
  },
  {
   "cell_type": "markdown",
   "id": "8c8c5d06",
   "metadata": {},
   "source": [
    "# Chapter 3\n",
    "### Excercise 3-1"
   ]
  },
  {
   "cell_type": "markdown",
   "id": "11469734",
   "metadata": {},
   "source": [
    "Use the NSFG respondent variable `numkdhh` to construct the actual distribution for the number of children under 18 in the household. "
   ]
  },
  {
   "cell_type": "code",
   "execution_count": 144,
   "id": "e90d086a",
   "metadata": {},
   "outputs": [],
   "source": [
    "# Import respondent dataset into dataframe 'resp'\n",
    "resp = nsfg.ReadFemResp()"
   ]
  },
  {
   "cell_type": "code",
   "execution_count": 145,
   "id": "5337eed3",
   "metadata": {},
   "outputs": [
    {
     "data": {
      "image/png": "[encoded data removed]",
      "text/plain": [
       "<Figure size 432x288 with 1 Axes>"
      ]
     },
     "metadata": {
      "needs_background": "light"
     },
     "output_type": "display_data"
    }
   ],
   "source": [
    "# Create a histogram for the `numkdhh` variable\n",
    "hist = thinkstats2.Hist(resp.numkdhh, label=\"numkdhh\")\n",
    "thinkplot.Hist(hist)\n",
    "thinkplot.Config(xlabel=\"Children in Household\", ylabel=\"Count\")"
   ]
  },
  {
   "cell_type": "markdown",
   "id": "0d865d46",
   "metadata": {},
   "source": [
    "Now compute the biased distribution we would see if we surveyed the children and asked them how many children under 18 (including themselves) are in their household. "
   ]
  },
  {
   "cell_type": "code",
   "execution_count": 146,
   "id": "4e05db25",
   "metadata": {},
   "outputs": [
    {
     "data": {
      "image/png": "[encoded data removed]",
      "text/plain": [
       "<Figure size 432x288 with 1 Axes>"
      ]
     },
     "metadata": {
      "needs_background": "light"
     },
     "output_type": "display_data"
    }
   ],
   "source": [
    "# Calculating the PMF for the `numkdhh` variable\n",
    "pmf = thinkstats2.Pmf(resp.numkdhh, label=\"Actual = numkdhh\")\n",
    "\n",
    "# Calculate the biased distribution\n",
    "biased_pmf = BiasPmf(pmf, label=\"Observed\")\n",
    "\n",
    "thinkplot.Pmf(biased_pmf)\n",
    "thinkplot.Config(xlabel=\"Children in Household\", ylabel=\"Pmf\")"
   ]
  },
  {
   "cell_type": "markdown",
   "id": "6b51a651",
   "metadata": {},
   "source": [
    "Plot the actual and biased distributions"
   ]
  },
  {
   "cell_type": "code",
   "execution_count": 147,
   "id": "48af6a21",
   "metadata": {
    "scrolled": true
   },
   "outputs": [
    {
     "data": {
      "image/png": "[encoded data removed]",
      "text/plain": [
       "<Figure size 432x288 with 1 Axes>"
      ]
     },
     "metadata": {
      "needs_background": "light"
     },
     "output_type": "display_data"
    }
   ],
   "source": [
    "# Plot histogram pair for actual vs observed number of children\n",
    "thinkplot.PrePlot(2)\n",
    "thinkplot.Pmfs([pmf, biased_pmf])\n",
    "thinkplot.Config(xlabel=\"Children in Household\", ylabel=\"PMF\")"
   ]
  },
  {
   "cell_type": "markdown",
   "id": "9e2a6b2e",
   "metadata": {},
   "source": [
    "Compute the means."
   ]
  },
  {
   "cell_type": "code",
   "execution_count": 148,
   "id": "b676ee89",
   "metadata": {},
   "outputs": [
    {
     "name": "stdout",
     "output_type": "stream",
     "text": [
      "Actual mean 1.024205155043831\n",
      "Observed mean 2.403679100664282\n"
     ]
    }
   ],
   "source": [
    "print(\"Actual mean\", pmf.Mean())\n",
    "print(\"Observed mean\", biased_pmf.Mean())"
   ]
  },
  {
   "cell_type": "markdown",
   "id": "618c9114",
   "metadata": {},
   "source": [
    "### Excercise 3-2"
   ]
  },
  {
   "cell_type": "markdown",
   "id": "2871187a",
   "metadata": {},
   "source": [
    "Write functions called PmfMean and PmfVar that take a Pmf object and compute the mean and variance. "
   ]
  },
  {
   "cell_type": "code",
   "execution_count": 149,
   "id": "d5bd47ce",
   "metadata": {},
   "outputs": [
    {
     "data": {
      "text/plain": [
       "1.024205155043831"
      ]
     },
     "execution_count": 149,
     "metadata": {},
     "output_type": "execute_result"
    }
   ],
   "source": [
    "def PmfMean(pmf):\n",
    "    # To calculate the mean of the pmf, we need to multiply each value with its probability and sum the resulting values.\n",
    "    my_pmf_mean = 0\n",
    "    for value, prob in pmf.d.items():\n",
    "        my_pmf_mean += value * prob\n",
    "    return my_pmf_mean\n",
    "\n",
    "PmfMean(pmf)"
   ]
  },
  {
   "cell_type": "code",
   "execution_count": 150,
   "id": "7f50c1e9",
   "metadata": {},
   "outputs": [
    {
     "data": {
      "text/plain": [
       "1.4128643263531195"
      ]
     },
     "execution_count": 150,
     "metadata": {},
     "output_type": "execute_result"
    }
   ],
   "source": [
    "def PmfVar(pmf):\n",
    "    # To calculate the variance, we multiply the probability by the difference between the actual value and the mean and then sum the resulting values, then square it.\n",
    "    pmfMean = PmfMean(pmf)\n",
    "    \n",
    "    return sum(prob * (value - pmfMean) ** 2 for value, prob in pmf.d.items())\n",
    "\n",
    "PmfVar(pmf)"
   ]
  },
  {
   "cell_type": "markdown",
   "id": "543dd40f",
   "metadata": {},
   "source": [
    "To test these methods, check that they are consistent with the methods Mean and Var provided by Pmf."
   ]
  },
  {
   "cell_type": "code",
   "execution_count": 151,
   "id": "d09cc3f0",
   "metadata": {},
   "outputs": [
    {
     "name": "stdout",
     "output_type": "stream",
     "text": [
      "Given mean = 1.024205155043831\n",
      "Given variance = 1.4128643263531195\n"
     ]
    }
   ],
   "source": [
    "print(\"Given mean =\", pmf.Mean())\n",
    "print(\"Given variance =\", pmf.Var())"
   ]
  },
  {
   "cell_type": "markdown",
   "id": "45eaeaa7",
   "metadata": {},
   "source": [
    "My values match the prewritten functions."
   ]
  },
  {
   "cell_type": "markdown",
   "id": "775ba982",
   "metadata": {},
   "source": [
    "# Chapter 4"
   ]
  },
  {
   "cell_type": "markdown",
   "id": "5788b73b",
   "metadata": {},
   "source": [
    "### Excercise 4-1"
   ]
  },
  {
   "cell_type": "markdown",
   "id": "15d1c5b3",
   "metadata": {},
   "source": [
    "How much did you weigh at birth?"
   ]
  },
  {
   "cell_type": "markdown",
   "id": "658d0544",
   "metadata": {},
   "source": [
    "*I was the first child born to my family and weighed 7 lbs 11oz.*"
   ]
  },
  {
   "cell_type": "markdown",
   "id": "db163d03",
   "metadata": {},
   "source": [
    "Using the NSFG data (all live births), compute the distribution of birth weights and use it to find your percentile rank. If you were a first baby, find your percentile rank in the distribution for first babies."
   ]
  },
  {
   "cell_type": "code",
   "execution_count": 152,
   "id": "5b0c7a25",
   "metadata": {
    "scrolled": true
   },
   "outputs": [],
   "source": [
    "# Divide the live birth data into two dataframes: first births and other births\n",
    "live, firsts, other = first.MakeFrames()\n",
    "\n",
    "# Create dataframe of birth weights for first children and then drop rows with no data.\n",
    "first_wgt = firsts.totalwgt_lb\n",
    "first_wgt_dropna = first_wgt.dropna()\n",
    " \n",
    "# Create dataframe of birth weights for other children and then drop rows with no data.\n",
    "other_wgt = others.totalwgt_lb\n",
    "other_wgt_dropna = other_wgt.dropna()"
   ]
  },
  {
   "cell_type": "code",
   "execution_count": 153,
   "id": "7c7606c7",
   "metadata": {},
   "outputs": [
    {
     "data": {
      "image/png": "[encoded data removed]",
      "text/plain": [
       "<Figure size 432x288 with 1 Axes>"
      ]
     },
     "metadata": {
      "needs_background": "light"
     },
     "output_type": "display_data"
    }
   ],
   "source": [
    "# Round down values to simplify distribution\n",
    "FstWgtRd = np.floor(first_wgt_dropna)\n",
    "\n",
    "# Plot raw data distribution for first births\n",
    "hist1st = thinkstats2.Hist(FstWgtRd, label=\"First Births\")\n",
    "thinkplot.Hist(hist1st)\n",
    "thinkplot.Config(xlabel=\"Birth weight (pounds)\", ylabel=\"Count\")"
   ]
  },
  {
   "cell_type": "code",
   "execution_count": 154,
   "id": "784938a4",
   "metadata": {},
   "outputs": [
    {
     "data": {
      "image/png": "[encoded data removed]",
      "text/plain": [
       "<Figure size 432x288 with 1 Axes>"
      ]
     },
     "metadata": {
      "needs_background": "light"
     },
     "output_type": "display_data"
    }
   ],
   "source": [
    "# Round down values to simplify distribution\n",
    "OthWgtRd = np.floor(other_wgt_dropna)\n",
    "\n",
    "# Plot raw data distribution for other births\n",
    "histOth = thinkstats2.Hist(OthWgtRd, label=\"Other Births\")\n",
    "thinkplot.Hist(histOth)\n",
    "thinkplot.Config(xlabel=\"Birth weight (pounds)\", ylabel=\"Count\")"
   ]
  },
  {
   "cell_type": "code",
   "execution_count": 155,
   "id": "c673972a",
   "metadata": {
    "scrolled": true
   },
   "outputs": [
    {
     "data": {
      "image/png": "[encoded data removed]",
      "text/plain": [
       "<Figure size 432x288 with 1 Axes>"
      ]
     },
     "metadata": {
      "needs_background": "light"
     },
     "output_type": "display_data"
    }
   ],
   "source": [
    "# Calculate PMF for both first births and other children.\n",
    "first_pmf = thinkstats2.Pmf(first_wgt_dropna, label='first')\n",
    "other_pmf = thinkstats2.Pmf(other_wgt_dropna, label='other')\n",
    "\n",
    "width = 0.4 / 16\n",
    "\n",
    "# plot PMFs of birth weights for first babies and others\n",
    "thinkplot.PrePlot(2)\n",
    "thinkplot.Hist(first_pmf, align='right', width=width)\n",
    "thinkplot.Hist(other_pmf, align='left', width=width)\n",
    "thinkplot.Config(xlabel='Weight (pounds)', ylabel='PMF')"
   ]
  },
  {
   "cell_type": "code",
   "execution_count": 156,
   "id": "7d139bcd",
   "metadata": {},
   "outputs": [
    {
     "data": {
      "text/plain": [
       "66.10130644052258"
      ]
     },
     "execution_count": 156,
     "metadata": {},
     "output_type": "execute_result"
    }
   ],
   "source": [
    "# Calculate percentile ranking for my birth weight of 7 lbs 11oz\n",
    "def PercentileRank(scores, your_score):\n",
    "    count = 0\n",
    "    for score in scores:\n",
    "        if score <= your_score:\n",
    "            count += 1\n",
    "\n",
    "    percentile_rank = 100.0 * count / len(scores)\n",
    "    return percentile_rank\n",
    "\n",
    "PercentileRank(first_wgt_dropna, 7.7)"
   ]
  },
  {
   "cell_type": "markdown",
   "id": "d78a8671",
   "metadata": {},
   "source": [
    "*Looks like my birth weight is in the 66th percentile.*"
   ]
  },
  {
   "cell_type": "markdown",
   "id": "755fafa0",
   "metadata": {},
   "source": [
    "### Excercise 4-2"
   ]
  },
  {
   "cell_type": "markdown",
   "id": "9191e6d4",
   "metadata": {
    "collapsed": true
   },
   "source": [
    "The numbers generated by `numpy.random.random` are supposed to be uniform between 0 and 1; that is, every value in the range should have the same probability.\n",
    "\n",
    "Generate 1000 numbers from `numpy.random.random`."
   ]
  },
  {
   "cell_type": "code",
   "execution_count": 157,
   "id": "65b5fd06",
   "metadata": {},
   "outputs": [],
   "source": [
    "RandomNums = np.random.random(1000)"
   ]
  },
  {
   "cell_type": "markdown",
   "id": "367d5a94",
   "metadata": {},
   "source": [
    "Plot their PMF.  What goes wrong?"
   ]
  },
  {
   "cell_type": "code",
   "execution_count": 158,
   "id": "a74f4077",
   "metadata": {
    "scrolled": true
   },
   "outputs": [
    {
     "data": {
      "image/png": "[encoded data removed]",
      "text/plain": [
       "<Figure size 432x288 with 1 Axes>"
      ]
     },
     "metadata": {
      "needs_background": "light"
     },
     "output_type": "display_data"
    }
   ],
   "source": [
    "# Calculate PMF \n",
    "RandomNums_pmf = thinkstats2.Pmf(RandomNums)\n",
    "\n",
    "\n",
    "# Plot raw data distribution for the random 1000 numbers\n",
    "thinkplot.pmf(RandomNums_pmf)\n",
    "thinkplot.Config(xlabel=\"Number\", ylabel=\"PMF\")"
   ]
  },
  {
   "cell_type": "markdown",
   "id": "994fa96f",
   "metadata": {},
   "source": [
    "*I get a solid block in the PMF graph. This is probably because every value has an equal chance of being in the sample.*"
   ]
  },
  {
   "cell_type": "markdown",
   "id": "eccdacd1",
   "metadata": {},
   "source": [
    "Now plot the CDF. Is the distribution uniform?"
   ]
  },
  {
   "cell_type": "code",
   "execution_count": 159,
   "id": "d852ad88",
   "metadata": {},
   "outputs": [
    {
     "data": {
      "image/png": "[encoded data removed]",
      "text/plain": [
       "<Figure size 432x288 with 1 Axes>"
      ]
     },
     "metadata": {
      "needs_background": "light"
     },
     "output_type": "display_data"
    }
   ],
   "source": [
    "cdf = thinkstats2.Cdf(RandomNums)\n",
    "thinkplot.Cdf(cdf)\n",
    "thinkplot.Config(xlabel='Number', ylabel='CDF')"
   ]
  },
  {
   "cell_type": "markdown",
   "id": "47d2aaaf",
   "metadata": {},
   "source": [
    "*The CDF is a straight line which shows that the distribution is uniform.*"
   ]
  }
 ],
 "metadata": {
  "kernelspec": {
   "display_name": "Python 3 (ipykernel)",
   "language": "python",
   "name": "python3"
  },
  "language_info": {
   "codemirror_mode": {
    "name": "ipython",
    "version": 3
   },
   "file_extension": ".py",
   "mimetype": "text/x-python",
   "name": "python",
   "nbconvert_exporter": "python",
   "pygments_lexer": "ipython3",
   "version": "3.9.12"
  }
 },
 "nbformat": 4,
 "nbformat_minor": 5
}
