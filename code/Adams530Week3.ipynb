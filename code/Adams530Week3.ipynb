{
 "cells": [
  {
   "cell_type": "markdown",
   "id": "2679e73c",
   "metadata": {},
   "source": [
    "Kimberly Adams <br>\n",
    "DSC 520\n",
    "September 2022\n",
    "\n",
    "\n",
    "# Chapter 1"
   ]
  },
  {
   "cell_type": "markdown",
   "id": "96c6f4e3",
   "metadata": {},
   "source": [
    "Download data files from github"
   ]
  },
  {
   "cell_type": "code",
   "execution_count": 1,
   "id": "286fa803",
   "metadata": {},
   "outputs": [],
   "source": [
    "from os.path import basename, exists\n",
    "\n",
    "\n",
    "def download(url):\n",
    "    filename = basename(url)\n",
    "    if not exists(filename):\n",
    "        from urllib.request import urlretrieve\n",
    "\n",
    "        local, _ = urlretrieve(url, filename)\n",
    "        print(\"Downloaded \" + local)\n",
    "\n",
    "# Download functions\n",
    "download(\"https://github.com/AllenDowney/ThinkStats2/raw/master/code/thinkstats2.py\")\n",
    "download(\"https://github.com/AllenDowney/ThinkStats2/raw/master/code/thinkplot.py\")\n",
    "\n",
    "# Download data\n",
    "download(\"https://github.com/AllenDowney/ThinkStats2/raw/master/code/nsfg.py\")\n",
    "download(\"https://github.com/AllenDowney/ThinkStats2/raw/master/code/2002FemPreg.dct\")\n",
    "download(\"https://github.com/AllenDowney/ThinkStats2/raw/master/code/2002FemPreg.dat.gz\")"
   ]
  },
  {
   "cell_type": "markdown",
   "id": "5b378425",
   "metadata": {},
   "source": [
    "### Excercise 1-1 "
   ]
  },
  {
   "cell_type": "markdown",
   "id": "b160c8b2",
   "metadata": {},
   "source": [
    "Import data from file into data frame"
   ]
  },
  {
   "cell_type": "code",
   "execution_count": 31,
   "id": "66b86faf",
   "metadata": {},
   "outputs": [],
   "source": [
    "import nsfg\n",
    "preg = nsfg.ReadFemPreg()\n",
    "\n",
    "# Return alphabetically sorted list of all column names\n",
    "# sorted(preg)"
   ]
  },
  {
   "cell_type": "markdown",
   "id": "eb000324",
   "metadata": {},
   "source": [
    "Select the `birthord` column, print the value counts, and compare to results published in the [codebook](https://ftp.cdc.gov/pub/health_Statistics/NCHs/Dataset_Documentation/NSFG/Cycle6Codebook-Pregnancy.pdf)"
   ]
  },
  {
   "cell_type": "code",
   "execution_count": 3,
   "id": "eaa5b995",
   "metadata": {},
   "outputs": [
    {
     "data": {
      "text/plain": [
       "1.0     4413\n",
       "2.0     2874\n",
       "3.0     1234\n",
       "4.0      421\n",
       "5.0      126\n",
       "6.0       50\n",
       "7.0       20\n",
       "8.0        7\n",
       "9.0        2\n",
       "10.0       1\n",
       "Name: birthord, dtype: int64"
      ]
     },
     "execution_count": 3,
     "metadata": {},
     "output_type": "execute_result"
    }
   ],
   "source": [
    "birthord = preg.birthord\n",
    "preg.birthord.value_counts().sort_index()"
   ]
  },
  {
   "attachments": {},
   "cell_type": "markdown",
   "id": "dd64222a",
   "metadata": {},
   "source": [
    "*The table I got has the same values as the codebook with the exception that my table does not include the \"INAPPLICABLE\" category as seen in the codebook which has a value of 4445.*\n",
    "\n",
    "*We can count the number of non-answers which gives us the value of \"INAPPLICABLE\" that was in the codebook.*"
   ]
  },
  {
   "cell_type": "code",
   "execution_count": 4,
   "id": "ddf7e0e2",
   "metadata": {},
   "outputs": [
    {
     "data": {
      "text/plain": [
       "4445"
      ]
     },
     "execution_count": 4,
     "metadata": {},
     "output_type": "execute_result"
    }
   ],
   "source": [
    "preg.birthord.isnull().sum()"
   ]
  },
  {
   "cell_type": "markdown",
   "id": "9857bd0e",
   "metadata": {},
   "source": [
    "Select the `prglngth` column, print the value counts, and compare to results published in the [codebook](https://ftp.cdc.gov/pub/health_Statistics/NCHs/Dataset_Documentation/NSFG/Cycle6Codebook-Pregnancy.pdf)"
   ]
  },
  {
   "cell_type": "code",
   "execution_count": 5,
   "id": "633952a6",
   "metadata": {},
   "outputs": [
    {
     "data": {
      "text/plain": [
       "0       15\n",
       "1        9\n",
       "2       78\n",
       "3      151\n",
       "4      412\n",
       "5      181\n",
       "6      543\n",
       "7      175\n",
       "8      409\n",
       "9      594\n",
       "10     137\n",
       "11     202\n",
       "12     170\n",
       "13     446\n",
       "14      29\n",
       "15      39\n",
       "16      44\n",
       "17     253\n",
       "18      17\n",
       "19      34\n",
       "20      18\n",
       "21      37\n",
       "22     147\n",
       "23      12\n",
       "24      31\n",
       "25      15\n",
       "26     117\n",
       "27       8\n",
       "28      38\n",
       "29      23\n",
       "30     198\n",
       "31      29\n",
       "32     122\n",
       "33      50\n",
       "34      60\n",
       "35     357\n",
       "36     329\n",
       "37     457\n",
       "38     609\n",
       "39    4744\n",
       "40    1120\n",
       "41     591\n",
       "42     328\n",
       "43     148\n",
       "44      46\n",
       "45      10\n",
       "46       1\n",
       "47       1\n",
       "48       7\n",
       "50       2\n",
       "Name: prglngth, dtype: int64"
      ]
     },
     "execution_count": 5,
     "metadata": {},
     "output_type": "execute_result"
    }
   ],
   "source": [
    "prglngth = preg.prglngth\n",
    "preg.prglngth.value_counts().sort_index()"
   ]
  },
  {
   "cell_type": "markdown",
   "id": "a57d842b",
   "metadata": {},
   "source": [
    "*Since the table in the codebook has the values summarized into 3 categories, I'll go ahead and calculate those:*"
   ]
  },
  {
   "cell_type": "code",
   "execution_count": 6,
   "id": "70e45daf",
   "metadata": {},
   "outputs": [
    {
     "name": "stdout",
     "output_type": "stream",
     "text": [
      "0-13 Weeks or Less  3522\n",
      "14-26 Weeks         793\n",
      "27 Weeks or longer  9278\n"
     ]
    }
   ],
   "source": [
    "x = sum(prglngth <=13)\n",
    "y = sum((prglngth >=14) & (prglngth <=26))\n",
    "z = sum(prglngth >=27)\n",
    "print(\"0-13 Weeks or Less \", x)\n",
    "print(\"14-26 Weeks        \", y)\n",
    "print(\"27 Weeks or longer \", z)"
   ]
  },
  {
   "attachments": {},
   "cell_type": "markdown",
   "id": "682bd0e3",
   "metadata": {},
   "source": [
    "*The values I got are the same values summarized in the codebook:*"
   ]
  },
  {
   "cell_type": "markdown",
   "id": "9fe0c90c",
   "metadata": {},
   "source": [
    "Create a new column named <tt>totalwgt_kg</tt> that contains birth weight in kilograms."
   ]
  },
  {
   "cell_type": "code",
   "execution_count": 7,
   "id": "cac0e0e1",
   "metadata": {},
   "outputs": [
    {
     "name": "stdout",
     "output_type": "stream",
     "text": [
      "       totalwgt_lb  totalwgt_kg\n",
      "0           8.8125     4.005682\n",
      "1           7.8750     3.579545\n",
      "2           9.1250     4.147727\n",
      "3           7.0000     3.181818\n",
      "4           6.1875     2.812500\n",
      "...            ...          ...\n",
      "13588       6.1875     2.812500\n",
      "13589          NaN          NaN\n",
      "13590          NaN          NaN\n",
      "13591       7.5000     3.409091\n",
      "13592       7.5000     3.409091\n",
      "\n",
      "[13593 rows x 2 columns]\n"
     ]
    }
   ],
   "source": [
    "preg[\"totalwgt_kg\"]= preg[\"totalwgt_lb\"] / 2.2\n",
    "print(preg[['totalwgt_lb','totalwgt_kg']])"
   ]
  },
  {
   "cell_type": "markdown",
   "id": "3abf7119",
   "metadata": {},
   "source": [
    "Calculate mean weight in kg:"
   ]
  },
  {
   "cell_type": "code",
   "execution_count": 8,
   "id": "be46ba9b",
   "metadata": {},
   "outputs": [
    {
     "data": {
      "text/plain": [
       "3.302558389828807"
      ]
     },
     "execution_count": 8,
     "metadata": {},
     "output_type": "execute_result"
    }
   ],
   "source": [
    "preg.totalwgt_kg.mean()"
   ]
  },
  {
   "cell_type": "markdown",
   "id": "f67d02e1",
   "metadata": {},
   "source": [
    "`nsfg.py` also provides `ReadFemResp`, which reads the female respondents file and returns a `DataFrame`:"
   ]
  },
  {
   "cell_type": "code",
   "execution_count": 9,
   "id": "ea732a6f",
   "metadata": {},
   "outputs": [],
   "source": [
    "download(\"https://github.com/AllenDowney/ThinkStats2/raw/master/code/2002FemResp.dct\")\n",
    "download(\"https://github.com/AllenDowney/ThinkStats2/raw/master/code/2002FemResp.dat.gz\")"
   ]
  },
  {
   "cell_type": "code",
   "execution_count": 10,
   "id": "816c36ba",
   "metadata": {},
   "outputs": [
    {
     "data": {
      "text/html": [
       "<div>\n",
       "<style scoped>\n",
       "    .dataframe tbody tr th:only-of-type {\n",
       "        vertical-align: middle;\n",
       "    }\n",
       "\n",
       "    .dataframe tbody tr th {\n",
       "        vertical-align: top;\n",
       "    }\n",
       "\n",
       "    .dataframe thead th {\n",
       "        text-align: right;\n",
       "    }\n",
       "</style>\n",
       "<table border=\"1\" class=\"dataframe\">\n",
       "  <thead>\n",
       "    <tr style=\"text-align: right;\">\n",
       "      <th></th>\n",
       "      <th>caseid</th>\n",
       "      <th>rscrinf</th>\n",
       "      <th>rdormres</th>\n",
       "      <th>rostscrn</th>\n",
       "      <th>rscreenhisp</th>\n",
       "      <th>rscreenrace</th>\n",
       "      <th>age_a</th>\n",
       "      <th>age_r</th>\n",
       "      <th>cmbirth</th>\n",
       "      <th>agescrn</th>\n",
       "      <th>...</th>\n",
       "      <th>pubassis_i</th>\n",
       "      <th>basewgt</th>\n",
       "      <th>adj_mod_basewgt</th>\n",
       "      <th>finalwgt</th>\n",
       "      <th>secu_r</th>\n",
       "      <th>sest</th>\n",
       "      <th>cmintvw</th>\n",
       "      <th>cmlstyr</th>\n",
       "      <th>screentime</th>\n",
       "      <th>intvlngth</th>\n",
       "    </tr>\n",
       "  </thead>\n",
       "  <tbody>\n",
       "    <tr>\n",
       "      <th>0</th>\n",
       "      <td>2298</td>\n",
       "      <td>1</td>\n",
       "      <td>5</td>\n",
       "      <td>5</td>\n",
       "      <td>1</td>\n",
       "      <td>5.0</td>\n",
       "      <td>27</td>\n",
       "      <td>27</td>\n",
       "      <td>902</td>\n",
       "      <td>27</td>\n",
       "      <td>...</td>\n",
       "      <td>0</td>\n",
       "      <td>3247.916977</td>\n",
       "      <td>5123.759559</td>\n",
       "      <td>5556.717241</td>\n",
       "      <td>2</td>\n",
       "      <td>18</td>\n",
       "      <td>1234</td>\n",
       "      <td>1222</td>\n",
       "      <td>18:26:36</td>\n",
       "      <td>110.492667</td>\n",
       "    </tr>\n",
       "    <tr>\n",
       "      <th>1</th>\n",
       "      <td>5012</td>\n",
       "      <td>1</td>\n",
       "      <td>5</td>\n",
       "      <td>1</td>\n",
       "      <td>5</td>\n",
       "      <td>5.0</td>\n",
       "      <td>42</td>\n",
       "      <td>42</td>\n",
       "      <td>718</td>\n",
       "      <td>42</td>\n",
       "      <td>...</td>\n",
       "      <td>0</td>\n",
       "      <td>2335.279149</td>\n",
       "      <td>2846.799490</td>\n",
       "      <td>4744.191350</td>\n",
       "      <td>2</td>\n",
       "      <td>18</td>\n",
       "      <td>1233</td>\n",
       "      <td>1221</td>\n",
       "      <td>16:30:59</td>\n",
       "      <td>64.294000</td>\n",
       "    </tr>\n",
       "    <tr>\n",
       "      <th>2</th>\n",
       "      <td>11586</td>\n",
       "      <td>1</td>\n",
       "      <td>5</td>\n",
       "      <td>1</td>\n",
       "      <td>5</td>\n",
       "      <td>5.0</td>\n",
       "      <td>43</td>\n",
       "      <td>43</td>\n",
       "      <td>708</td>\n",
       "      <td>43</td>\n",
       "      <td>...</td>\n",
       "      <td>0</td>\n",
       "      <td>2335.279149</td>\n",
       "      <td>2846.799490</td>\n",
       "      <td>4744.191350</td>\n",
       "      <td>2</td>\n",
       "      <td>18</td>\n",
       "      <td>1234</td>\n",
       "      <td>1222</td>\n",
       "      <td>18:19:09</td>\n",
       "      <td>75.149167</td>\n",
       "    </tr>\n",
       "    <tr>\n",
       "      <th>3</th>\n",
       "      <td>6794</td>\n",
       "      <td>5</td>\n",
       "      <td>5</td>\n",
       "      <td>4</td>\n",
       "      <td>1</td>\n",
       "      <td>5.0</td>\n",
       "      <td>15</td>\n",
       "      <td>15</td>\n",
       "      <td>1042</td>\n",
       "      <td>15</td>\n",
       "      <td>...</td>\n",
       "      <td>0</td>\n",
       "      <td>3783.152221</td>\n",
       "      <td>5071.464231</td>\n",
       "      <td>5923.977368</td>\n",
       "      <td>2</td>\n",
       "      <td>18</td>\n",
       "      <td>1234</td>\n",
       "      <td>1222</td>\n",
       "      <td>15:54:43</td>\n",
       "      <td>28.642833</td>\n",
       "    </tr>\n",
       "    <tr>\n",
       "      <th>4</th>\n",
       "      <td>616</td>\n",
       "      <td>1</td>\n",
       "      <td>5</td>\n",
       "      <td>4</td>\n",
       "      <td>1</td>\n",
       "      <td>5.0</td>\n",
       "      <td>20</td>\n",
       "      <td>20</td>\n",
       "      <td>991</td>\n",
       "      <td>20</td>\n",
       "      <td>...</td>\n",
       "      <td>0</td>\n",
       "      <td>5341.329968</td>\n",
       "      <td>6437.335772</td>\n",
       "      <td>7229.128072</td>\n",
       "      <td>2</td>\n",
       "      <td>18</td>\n",
       "      <td>1233</td>\n",
       "      <td>1221</td>\n",
       "      <td>14:19:44</td>\n",
       "      <td>69.502667</td>\n",
       "    </tr>\n",
       "  </tbody>\n",
       "</table>\n",
       "<p>5 rows × 3087 columns</p>\n",
       "</div>"
      ],
      "text/plain": [
       "   caseid  rscrinf  rdormres  rostscrn  rscreenhisp  rscreenrace  age_a  \\\n",
       "0    2298        1         5         5            1          5.0     27   \n",
       "1    5012        1         5         1            5          5.0     42   \n",
       "2   11586        1         5         1            5          5.0     43   \n",
       "3    6794        5         5         4            1          5.0     15   \n",
       "4     616        1         5         4            1          5.0     20   \n",
       "\n",
       "   age_r  cmbirth  agescrn  ...  pubassis_i      basewgt  adj_mod_basewgt  \\\n",
       "0     27      902       27  ...           0  3247.916977      5123.759559   \n",
       "1     42      718       42  ...           0  2335.279149      2846.799490   \n",
       "2     43      708       43  ...           0  2335.279149      2846.799490   \n",
       "3     15     1042       15  ...           0  3783.152221      5071.464231   \n",
       "4     20      991       20  ...           0  5341.329968      6437.335772   \n",
       "\n",
       "      finalwgt  secu_r  sest  cmintvw  cmlstyr  screentime   intvlngth  \n",
       "0  5556.717241       2    18     1234     1222    18:26:36  110.492667  \n",
       "1  4744.191350       2    18     1233     1221    16:30:59   64.294000  \n",
       "2  4744.191350       2    18     1234     1222    18:19:09   75.149167  \n",
       "3  5923.977368       2    18     1234     1222    15:54:43   28.642833  \n",
       "4  7229.128072       2    18     1233     1221    14:19:44   69.502667  \n",
       "\n",
       "[5 rows x 3087 columns]"
      ]
     },
     "execution_count": 10,
     "metadata": {},
     "output_type": "execute_result"
    }
   ],
   "source": [
    "resp = nsfg.ReadFemResp()\n",
    "resp.head()"
   ]
  },
  {
   "cell_type": "markdown",
   "id": "e94d685e",
   "metadata": {},
   "source": [
    "Select the `age_r` column from `resp` and print the value counts.  "
   ]
  },
  {
   "cell_type": "code",
   "execution_count": 11,
   "id": "0aa76d2e",
   "metadata": {},
   "outputs": [
    {
     "data": {
      "text/plain": [
       "15    217\n",
       "16    223\n",
       "17    234\n",
       "18    235\n",
       "19    241\n",
       "20    258\n",
       "21    267\n",
       "22    287\n",
       "23    282\n",
       "24    269\n",
       "25    267\n",
       "26    260\n",
       "27    255\n",
       "28    252\n",
       "29    262\n",
       "30    292\n",
       "31    278\n",
       "32    273\n",
       "33    257\n",
       "34    255\n",
       "35    262\n",
       "36    266\n",
       "37    271\n",
       "38    256\n",
       "39    215\n",
       "40    256\n",
       "41    250\n",
       "42    215\n",
       "43    253\n",
       "44    235\n",
       "Name: age_r, dtype: int64"
      ]
     },
     "execution_count": 11,
     "metadata": {},
     "output_type": "execute_result"
    }
   ],
   "source": [
    "age_r = resp.age_r\n",
    "resp.age_r.value_counts().sort_index()"
   ]
  },
  {
   "cell_type": "markdown",
   "id": "5a506b2f",
   "metadata": {},
   "source": [
    "How old are the youngest and oldest respondents?"
   ]
  },
  {
   "cell_type": "code",
   "execution_count": 12,
   "id": "a243770c",
   "metadata": {},
   "outputs": [
    {
     "name": "stdout",
     "output_type": "stream",
     "text": [
      "Youngest =  15 , Oldest =  44\n"
     ]
    }
   ],
   "source": [
    "# Find the min and max values for the age_r column\n",
    "youngest = min(age_r)\n",
    "oldest = max(age_r)\n",
    "print(\"Youngest = \", youngest, \", Oldest = \", oldest)"
   ]
  },
  {
   "cell_type": "markdown",
   "id": "dad1f1d9",
   "metadata": {},
   "source": [
    "How old is the respondent with `caseid` 1?"
   ]
  },
  {
   "cell_type": "code",
   "execution_count": 13,
   "id": "56b6e8ae",
   "metadata": {},
   "outputs": [
    {
     "data": {
      "text/plain": [
       "1069    44\n",
       "Name: age_r, dtype: int64"
      ]
     },
     "execution_count": 13,
     "metadata": {},
     "output_type": "execute_result"
    }
   ],
   "source": [
    "# Search for caseid 1 and return value of age_r column for that row\n",
    "resp[resp.caseid == 1].age_r"
   ]
  },
  {
   "cell_type": "markdown",
   "id": "911d7c84",
   "metadata": {},
   "source": [
    "*The respondant with caseid 1 is 44 years old.*"
   ]
  },
  {
   "cell_type": "markdown",
   "id": "b65000e5",
   "metadata": {},
   "source": [
    "What are the pregnancy lengths for the respondent with `caseid` 2298?"
   ]
  },
  {
   "cell_type": "code",
   "execution_count": 14,
   "id": "a2091ab9",
   "metadata": {},
   "outputs": [
    {
     "data": {
      "text/plain": [
       "2610    40\n",
       "2611    36\n",
       "2612    30\n",
       "2613    40\n",
       "Name: prglngth, dtype: int64"
      ]
     },
     "execution_count": 14,
     "metadata": {},
     "output_type": "execute_result"
    }
   ],
   "source": [
    "# Search for caseid 2298 in the pregnancy data table and return values of prglngth for records with that caseid\n",
    "preg[preg.caseid == 2298].prglngth"
   ]
  },
  {
   "cell_type": "markdown",
   "id": "def7de32",
   "metadata": {},
   "source": [
    "*The mother with caseid 2298 has given birth 4 times with her pregancies lasting 40, 36, 30, and 40 weeks.*"
   ]
  },
  {
   "cell_type": "markdown",
   "id": "f0839bb3",
   "metadata": {},
   "source": [
    "What was the birthweight of the first baby born to the respondent with `caseid` 5012?"
   ]
  },
  {
   "cell_type": "code",
   "execution_count": 15,
   "id": "c4840e7c",
   "metadata": {},
   "outputs": [
    {
     "data": {
      "text/plain": [
       "5515    6.0\n",
       "Name: birthwgt_lb, dtype: float64"
      ]
     },
     "execution_count": 15,
     "metadata": {},
     "output_type": "execute_result"
    }
   ],
   "source": [
    "# Search for caseid 5012 in the pregnancy data table and return value of birthwgt_lb for records with that caseid\n",
    "preg[preg.caseid == 5012].birthwgt_lb"
   ]
  },
  {
   "cell_type": "markdown",
   "id": "2a8c7bc5",
   "metadata": {},
   "source": [
    "*In this case the mother has only had one birth recorded with the baby weighing 6.0lbs. We can doulbe check that this is her first child:*"
   ]
  },
  {
   "cell_type": "code",
   "execution_count": 16,
   "id": "1c85f983",
   "metadata": {},
   "outputs": [
    {
     "data": {
      "text/plain": [
       "5515    1.0\n",
       "Name: birthord, dtype: float64"
      ]
     },
     "execution_count": 16,
     "metadata": {},
     "output_type": "execute_result"
    }
   ],
   "source": [
    "# Double checking that this is her first child\n",
    "preg[preg.caseid == 5012].birthord"
   ]
  },
  {
   "cell_type": "markdown",
   "id": "573906f7",
   "metadata": {},
   "source": [
    "*The row numbers (5515) both match and the birthord value is 1.0 indicating this is indeed her first child.*"
   ]
  },
  {
   "cell_type": "markdown",
   "id": "e0d990f2",
   "metadata": {},
   "source": [
    "### Excercise 1-2"
   ]
  },
  {
   "cell_type": "markdown",
   "id": "f9631f7e",
   "metadata": {},
   "source": [
    "The variable `pregnum` is a recode that indicates how many times each respondent has been pregnant. Print the value counts for this variable. "
   ]
  },
  {
   "cell_type": "code",
   "execution_count": 17,
   "id": "660ecbd2",
   "metadata": {},
   "outputs": [
    {
     "data": {
      "text/plain": [
       "0     2610\n",
       "1     1267\n",
       "2     1432\n",
       "3     1110\n",
       "4      611\n",
       "5      305\n",
       "6      150\n",
       "7       80\n",
       "8       40\n",
       "9       21\n",
       "10       9\n",
       "11       3\n",
       "12       2\n",
       "14       2\n",
       "19       1\n",
       "Name: pregnum, dtype: int64"
      ]
     },
     "execution_count": 17,
     "metadata": {},
     "output_type": "execute_result"
    }
   ],
   "source": [
    "pregnum = resp.pregnum\n",
    "resp.pregnum.value_counts().sort_index()"
   ]
  },
  {
   "cell_type": "code",
   "execution_count": 18,
   "id": "78218d54",
   "metadata": {},
   "outputs": [
    {
     "data": {
      "text/plain": [
       "158"
      ]
     },
     "execution_count": 18,
     "metadata": {},
     "output_type": "execute_result"
    }
   ],
   "source": [
    "sum(pregnum >=7)"
   ]
  },
  {
   "cell_type": "code",
   "execution_count": 19,
   "id": "5445eec7",
   "metadata": {},
   "outputs": [
    {
     "data": {
      "text/plain": [
       "1     1267\n",
       "2     2864\n",
       "3     3330\n",
       "4     2444\n",
       "5     1525\n",
       "6      900\n",
       "7      560\n",
       "8      320\n",
       "9      189\n",
       "10      90\n",
       "11      33\n",
       "12      24\n",
       "14      28\n",
       "19      19\n",
       "Name: pregnum, dtype: int64"
      ]
     },
     "execution_count": 19,
     "metadata": {},
     "output_type": "execute_result"
    }
   ],
   "source": [
    "preg.pregnum.value_counts().sort_index()"
   ]
  },
  {
   "attachments": {},
   "cell_type": "markdown",
   "id": "52e2faa1",
   "metadata": {},
   "source": [
    "Compare them to the published results in the NSFG codebook. "
   ]
  },
  {
   "cell_type": "markdown",
   "id": "04280599",
   "metadata": {},
   "source": [
    "*My numbers do NOT match the published codebook when I run the code on the respondent data frame, but do match when run on the pregnancy data frame.  It looks like the values I am getting from the pregnancy data are equal to the number of births multiplied by the frequency counts given by the respondent data frame.*\n",
    "\n",
    "*It makes sense to me that the respondent numbers would be more accurate (if each respondent is only listed once) since each mother would have a single value for how many pregnancies they had.  Whereas it seems like the pregnancy dataset lists the total number of pregnancies each woman had for each record of a single pregnancy, thus artificially inflating the total numbers.*\n",
    "\n",
    "\n",
    "*Side note: Good lord some mothers have had 19 pregnancies!*"
   ]
  },
  {
   "cell_type": "markdown",
   "id": "7da77887",
   "metadata": {},
   "source": [
    "Cross-validate the respondent and pregnancy files by comparing `pregnum` for each respondent with the number of records in the pregnancy file."
   ]
  },
  {
   "cell_type": "code",
   "execution_count": 20,
   "id": "de6f4488",
   "metadata": {},
   "outputs": [
    {
     "data": {
      "text/plain": [
       "13593"
      ]
     },
     "execution_count": 20,
     "metadata": {},
     "output_type": "execute_result"
    }
   ],
   "source": [
    "sum(pregnum)"
   ]
  },
  {
   "cell_type": "code",
   "execution_count": 21,
   "id": "9ed84466",
   "metadata": {},
   "outputs": [
    {
     "data": {
      "text/plain": [
       "True"
      ]
     },
     "execution_count": 21,
     "metadata": {},
     "output_type": "execute_result"
    }
   ],
   "source": [
    "def Validatation(resp):\n",
    "    # Map pregnancy data frame by caseid\n",
    "    preg_map = nsfg.MakePregMap(preg)\n",
    "    \n",
    "    # Look up each caseid in the respondent data frame and check pregnum\n",
    "    for index, pregnum in resp.pregnum.items():\n",
    "        caseid = resp.caseid[index]\n",
    "        indices = preg_map[caseid]\n",
    "\n",
    "        # See if the pregnum in the respondent data frame is equal to the number of records in the prenancy data frame\n",
    "        if len(indices) != pregnum:\n",
    "            print(caseid, len(indices), pregnum)\n",
    "            return False\n",
    "\n",
    "    return True\n",
    "\n",
    "Validatation(resp)"
   ]
  },
  {
   "cell_type": "markdown",
   "id": "3fb11c97",
   "metadata": {},
   "source": [
    "*The validation shows that the `pregnum` number in the respondent data frame is equal to the number of pregnancy records for each caseid within the prenancy dataframe.*"
   ]
  },
  {
   "cell_type": "markdown",
   "id": "d30935d0",
   "metadata": {},
   "source": [
    "# Chapter 2"
   ]
  },
  {
   "cell_type": "code",
   "execution_count": 22,
   "id": "0e830260",
   "metadata": {},
   "outputs": [],
   "source": [
    "import numpy as np\n",
    "import thinkstats2\n",
    "import thinkplot"
   ]
  },
  {
   "cell_type": "markdown",
   "id": "26ab08a8",
   "metadata": {},
   "source": [
    "### Excercise 2-1"
   ]
  },
  {
   "cell_type": "code",
   "execution_count": 23,
   "id": "41563776",
   "metadata": {},
   "outputs": [
    {
     "data": {
      "image/png": "[encoded data removed]",
      "text/plain": [
       "<Figure size 432x288 with 1 Axes>"
      ]
     },
     "metadata": {
      "needs_background": "light"
     },
     "output_type": "display_data"
    }
   ],
   "source": [
    "# Select only pregnancies ending with a live birth\n",
    "live = preg[preg.outcome ==1]\n",
    "\n",
    "# Separate out first child pregnancies\n",
    "firsts = live[live.birthord == 1]\n",
    "others = live[live.birthord != 1]\n",
    "\n",
    "# Plot histograms of each type of pregnancy\n",
    "first_hist = thinkstats2.Hist(firsts.prglngth, label='First')\n",
    "other_hist = thinkstats2.Hist(others.prglngth, label='Other')\n",
    "\n",
    "# Put histogram columns side-by-side and limit x-axis to x is between 27 and 46 weeks\n",
    "width = 0.45\n",
    "thinkplot.PrePlot(2)\n",
    "thinkplot.Hist(first_hist, align='right', width=width)\n",
    "thinkplot.Hist(other_hist, align='left', width=width)\n",
    "thinkplot.Config(xlabel='Live Birth Pregnancy Length (weeks)', ylabel='Count', xlim=[27, 46])"
   ]
  },
  {
   "cell_type": "markdown",
   "id": "d11be5dd",
   "metadata": {},
   "source": [
    "Summary statistics:"
   ]
  },
  {
   "cell_type": "code",
   "execution_count": 24,
   "id": "aff092dd",
   "metadata": {},
   "outputs": [
    {
     "name": "stdout",
     "output_type": "stream",
     "text": [
      "Overall Mean      38.56055968517709\n",
      "Overall Variance  7.302662067826851\n",
      "Overall SD        2.702343810070593\n"
     ]
    }
   ],
   "source": [
    "mean = live.prglngth.mean()\n",
    "print(\"Overall Mean     \", mean)\n",
    "\n",
    "var = live.prglngth.var()\n",
    "print(\"Overall Variance \", var)\n",
    "\n",
    "std = live.prglngth.std()\n",
    "print(\"Overall SD       \", std)"
   ]
  },
  {
   "cell_type": "code",
   "execution_count": 25,
   "id": "079a3956",
   "metadata": {},
   "outputs": [
    {
     "name": "stdout",
     "output_type": "stream",
     "text": [
      "First Birth Mean  38.60095173351461\n",
      "Other Birth Mean  38.52291446673706\n",
      "Difference (F-O)  0.07803726677754952 = 0.5462608674428466 days\n"
     ]
    }
   ],
   "source": [
    "print(\"First Birth Mean \", firsts.prglngth.mean())\n",
    "print(\"Other Birth Mean \", others.prglngth.mean())\n",
    "difference = firsts.prglngth.mean() - others.prglngth.mean()\n",
    "DiffDays = difference * 7\n",
    "print(\"Difference (F-O) \", difference, \"=\", DiffDays, \"days\")"
   ]
  },
  {
   "cell_type": "markdown",
   "id": "7b5965a5",
   "metadata": {},
   "source": [
    "This functon computes the Cohen effect size, which is the difference in means expressed in number of standard deviations:"
   ]
  },
  {
   "cell_type": "code",
   "execution_count": 26,
   "id": "72242966",
   "metadata": {},
   "outputs": [],
   "source": [
    "def CohenEffectSize(group1, group2):\n",
    "    \"\"\"Computes Cohen's effect size for two groups.\n",
    "    \n",
    "    group1: Series or DataFrame\n",
    "    group2: Series or DataFrame\n",
    "    \n",
    "    returns: float if the arguments are Series;\n",
    "             Series if the arguments are DataFrames\n",
    "    \"\"\"\n",
    "    diff = group1.mean() - group2.mean()\n",
    "\n",
    "    var1 = group1.var()\n",
    "    var2 = group2.var()\n",
    "    n1, n2 = len(group1), len(group2)\n",
    "\n",
    "    pooled_var = (n1 * var1 + n2 * var2) / (n1 + n2)\n",
    "    d = diff / np.sqrt(pooled_var)\n",
    "    return d"
   ]
  },
  {
   "cell_type": "markdown",
   "id": "86b02cf0",
   "metadata": {},
   "source": [
    "Compute the Cohen effect size for the difference in pregnancy length for first babies and others."
   ]
  },
  {
   "cell_type": "code",
   "execution_count": 27,
   "id": "4767e414",
   "metadata": {},
   "outputs": [
    {
     "data": {
      "text/plain": [
       "0.028879044654449883"
      ]
     },
     "execution_count": 27,
     "metadata": {},
     "output_type": "execute_result"
    }
   ],
   "source": [
    "CohenEffectSize(firsts.prglngth, others.prglngth)"
   ]
  },
  {
   "cell_type": "markdown",
   "id": "058f6978",
   "metadata": {},
   "source": [
    "Which summary statistics would you use if you wanted to get a story on the evening news? Which ones would you use if you wanted to reassure an anxious patient? "
   ]
  },
  {
   "cell_type": "markdown",
   "id": "d9763ce0",
   "metadata": {},
   "source": [
    "*For the general public, the mean (or average) is probably the most recognizable out of all the summary statistics we use.  People more naturally understand it and use it more often in their everyday lives.  They also understand that there is a natural variation in populations and that there is no exact \"correct\" value for everyone. Also putting things into perspective (such as hours out of a months long pregnancy can certainly help show how small any differences are.*"
   ]
  },
  {
   "cell_type": "markdown",
   "id": "849b2518",
   "metadata": {},
   "source": [
    "Finally, imagine that you are Cecil Adams, author of The Straight Dope, and your job is to answer the question, “Do first babies arrive late?” Write a paragraph that uses the results in this chapter to answer the question clearly, precisely, and honestly."
   ]
  },
  {
   "cell_type": "markdown",
   "id": "b0a9bf25",
   "metadata": {},
   "source": [
    "*On average, the birth of a first child occurs roughly half a day (about 13 hours) later than subsequent births on average.  However, it should be noted that there is a lot of natural variation in the length of pregnancies (2.7 weeks) reguardless of what child it is for the mother. Also, when you consider the full length of a pregnancy, 13 hours is very insignificant.  As seen in the graph of pregnancy lengths, there is no distinctive difference between first births and other births so expecting parents should not worry about timing differences and just enjoy the experience - however long it lasts.*"
   ]
  },
  {
   "cell_type": "markdown",
   "id": "d216d5b2",
   "metadata": {},
   "source": [
    "### Excercise 2-4.  \n",
    "Using the variable `totalwgt_lb`, investigate whether first babies are lighter or heavier than others. Compute Cohen’s d to quantify the difference between the groups. How does it compare to the difference in pregnancy length?"
   ]
  },
  {
   "cell_type": "code",
   "execution_count": 38,
   "id": "677d3734",
   "metadata": {},
   "outputs": [
    {
     "data": {
      "image/png": "[encoded data removed]",
      "text/plain": [
       "<Figure size 432x288 with 1 Axes>"
      ]
     },
     "metadata": {
      "needs_background": "light"
     },
     "output_type": "display_data"
    }
   ],
   "source": [
    "# Select only pregnancies ending with a live birth\n",
    "live = preg[preg.outcome ==1]\n",
    "\n",
    "# Separate out first child pregnancies\n",
    "firsts = np.floor(live[live.birthord == 1])\n",
    "others = np.floor(live[live.birthord != 1])\n",
    "\n",
    "# Plot histograms of each type of pregnancy\n",
    "firstwgt_hist = thinkstats2.Hist(firsts.totalwgt_lb, label='First')\n",
    "otherwgt_hist = thinkstats2.Hist(others.totalwgt_lb, label='Other')\n",
    "\n",
    "# Put histogram columns side-by-side and limit x-axis to x is between 27 and 46 weeks\n",
    "width = 0.45\n",
    "thinkplot.PrePlot(2)\n",
    "thinkplot.Hist(firstwgt_hist, align='right', width=width)\n",
    "thinkplot.Hist(otherwgt_hist, align='left', width=width)\n",
    "thinkplot.Config(xlabel='Total Weight (lbs)', ylabel='Count')"
   ]
  },
  {
   "cell_type": "markdown",
   "id": "937ecfb1",
   "metadata": {},
   "source": [
    "Summary statistics:"
   ]
  },
  {
   "cell_type": "code",
   "execution_count": 28,
   "id": "26c412d4",
   "metadata": {},
   "outputs": [
    {
     "name": "stdout",
     "output_type": "stream",
     "text": [
      "Overall Mean      7.265628457623368\n",
      "Overall Variance  1.9832904288326532\n",
      "Overall SD        1.4082934455690168\n"
     ]
    }
   ],
   "source": [
    "meanwgt = live.totalwgt_lb.mean()\n",
    "print(\"Overall Mean     \", meanwgt)\n",
    "\n",
    "varwgt = live.totalwgt_lb.var()\n",
    "print(\"Overall Variance \", varwgt)\n",
    "\n",
    "stdwgt = live.totalwgt_lb.std()\n",
    "print(\"Overall SD       \", stdwgt# Select only pregnancies ending with a live birth\n",
    "live = preg[preg.outcome ==1]\n",
    "\n",
    "# Separate out first child pregnancies\n",
    "firsts = live[live.birthord == 1]\n",
    "others = live[live.birthord != 1]\n",
    "\n",
    "# Plot histograms of each type of pregnancy\n",
    "first_hist = thinkstats2.Hist(firsts.prglngth, label='First')\n",
    "other_hist = thinkstats2.Hist(others.prglngth, label='Other')\n",
    "\n",
    "# Put histogram columns side-by-side and limit x-axis to x is between 27 and 46 weeks\n",
    "width = 0.45\n",
    "thinkplot.PrePlot(2)\n",
    "thinkplot.Hist(first_hist, align='right', width=width)\n",
    "thinkplot.Hist(other_hist, align='left', width=width)\n",
    "thinkplot.Config(xlabel='Live Birth Pregnancy Length (weeks)', ylabel='Count', xlim=[27, 46])\n",
    "\n",
    "Summary statistics:)"
   ]
  },
  {
   "cell_type": "code",
   "execution_count": 29,
   "id": "82ac4db5",
   "metadata": {},
   "outputs": [
    {
     "name": "stdout",
     "output_type": "stream",
     "text": [
      "First Birth Mean  7.201094430437772\n",
      "Other Birth Mean  7.325855614973262\n",
      "Difference (F-O)  -0.12476118453549034 lbs\n"
     ]
    }
   ],
   "source": [
    "print(\"First Birth Mean \", firsts.totalwgt_lb.mean())\n",
    "print(\"Other Birth Mean \", others.totalwgt_lb.mean())\n",
    "difference = firsts.totalwgt_lb.mean() - others.totalwgt_lb.mean()\n",
    "print(\"Difference (F-O) \", difference, \"lbs\")"
   ]
  },
  {
   "cell_type": "markdown",
   "id": "5f9064ea",
   "metadata": {},
   "source": [
    "Compute the Cohen effect size for the difference in pregnancy length for first babies and others."
   ]
  },
  {
   "cell_type": "code",
   "execution_count": 30,
   "id": "f74486a4",
   "metadata": {},
   "outputs": [
    {
     "data": {
      "text/plain": [
       "-0.088672927072602"
      ]
     },
     "execution_count": 30,
     "metadata": {},
     "output_type": "execute_result"
    }
   ],
   "source": [
    "CohenEffectSize(firsts.totalwgt_lb, others.totalwgt_lb)"
   ]
  },
  {
   "cell_type": "markdown",
   "id": "04b79cdc",
   "metadata": {},
   "source": [
    "*Based on the data in the sample, first-born children are on average 0.12 lbs lighter than children born later.  The difference between the groups is overall very small though with a Cohen's d value of -0.09 which is almost zero standard deviations of difference between the two groups.*\n",
    "\n",
    "*The Cohen's d value is 4x greater than that of the differences in pregnancy length between first-born and other children, but is still not significant.*"
   ]
  },
  {
   "cell_type": "code",
   "execution_count": null,
   "id": "0f78dacd",
   "metadata": {},
   "outputs": [],
   "source": []
  }
 ],
 "metadata": {
  "kernelspec": {
   "display_name": "Python 3 (ipykernel)",
   "language": "python",
   "name": "python3"
  },
  "language_info": {
   "codemirror_mode": {
    "name": "ipython",
    "version": 3
   },
   "file_extension": ".py",
   "mimetype": "text/x-python",
   "name": "python",
   "nbconvert_exporter": "python",
   "pygments_lexer": "ipython3",
   "version": "3.9.12"
  }
 },
 "nbformat": 4,
 "nbformat_minor": 5
}
