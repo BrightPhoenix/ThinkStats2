{
 "cells": [
  {
   "cell_type": "markdown",
   "id": "b10b77f1",
   "metadata": {},
   "source": [
    "Kimberly Adams \n",
    "DSC 530 September 2022"
   ]
  },
  {
   "cell_type": "markdown",
   "id": "96c6f4e3",
   "metadata": {},
   "source": [
    "Download data files from github"
   ]
  },
  {
   "cell_type": "code",
   "execution_count": 1,
   "id": "57fc84f0",
   "metadata": {},
   "outputs": [],
   "source": [
    "from os.path import basename, exists\n",
    "\n",
    "\n",
    "def download(url):\n",
    "    filename = basename(url)\n",
    "    if not exists(filename):\n",
    "        from urllib.request import urlretrieve\n",
    "\n",
    "        local, _ = urlretrieve(url, filename)\n",
    "        print(\"Downloaded \" + local)\n",
    "\n",
    "# Download author's functions.\n",
    "download(\"https://github.com/AllenDowney/ThinkStats2/raw/master/code/thinkstats2.py\")\n",
    "download(\"https://github.com/AllenDowney/ThinkStats2/raw/master/code/thinkplot.py\")"
   ]
  },
  {
   "cell_type": "code",
   "execution_count": 2,
   "id": "c0cc8225",
   "metadata": {},
   "outputs": [],
   "source": [
    "# Import numpy and pandas packages\n",
    "import numpy as np\n",
    "import pandas as pd\n",
    "\n",
    "# Import author's functions\n",
    "import thinkstats2\n",
    "import thinkplot"
   ]
  },
  {
   "cell_type": "code",
   "execution_count": 3,
   "id": "468c5451",
   "metadata": {},
   "outputs": [],
   "source": [
    "# Import NSFG data\n",
    "download(\"https://github.com/AllenDowney/ThinkStats2/raw/master/code/nsfg.py\")\n",
    "download(\"https://github.com/AllenDowney/ThinkStats2/raw/master/code/first.py\")\n",
    "\n",
    "download(\"https://github.com/AllenDowney/ThinkStats2/raw/master/code/2002FemPreg.dct\")\n",
    "download(\"https://github.com/AllenDowney/ThinkStats2/raw/master/code/2002FemPreg.dat.gz\")\n",
    "\n",
    "download(\"https://github.com/AllenDowney/ThinkStats2/raw/master/code/2002FemResp.dct\")\n",
    "download(\"https://github.com/AllenDowney/ThinkStats2/raw/master/code/2002FemResp.dat.gz\")\n",
    "\n",
    "# Import into dataframes\n",
    "import first\n",
    "\n",
    "live, firsts, others = first.MakeFrames()"
   ]
  },
  {
   "cell_type": "code",
   "execution_count": 4,
   "id": "186ed9c5",
   "metadata": {},
   "outputs": [],
   "source": [
    "# Import StatsModels for multiple regression\n",
    "import statsmodels.formula.api as smf\n",
    "\n",
    "# Limit data set to live births that occured after week 30\n",
    "live = live[live.prglngth>30]"
   ]
  },
  {
   "cell_type": "code",
   "execution_count": 5,
   "id": "5783bdc2",
   "metadata": {},
   "outputs": [],
   "source": [
    "# Import author's function to summarize the results important stats\n",
    "def SummarizeResults(results):\n",
    "    \"\"\"Prints the most important parts of linear regression results:\n",
    "    results: RegressionResults object\n",
    "    \"\"\"\n",
    "    for name, param in results.params.items():\n",
    "        pvalue = results.pvalues[name]\n",
    "        print('%s   %0.3g   (%.3g)' % (name, param, pvalue))\n",
    "\n",
    "    try:\n",
    "        print('R^2 %.4g' % results.rsquared)\n",
    "        ys = results.model.endog\n",
    "        print('Std(ys) %.4g' % ys.std())\n",
    "        print('Std(res) %.4g' % results.resid.std())\n",
    "    except AttributeError:\n",
    "        print('R^2 %.4g' % results.prsquared)"
   ]
  },
  {
   "cell_type": "code",
   "execution_count": 6,
   "id": "c33dcb8d",
   "metadata": {},
   "outputs": [],
   "source": [
    "# Import patsy and re functions\n",
    "import patsy\n",
    "import re\n",
    "\n",
    "\n",
    "# Import author's functions\n",
    "# Find r2 values for ALL variables\n",
    "def GoMining(df):\n",
    "    \"\"\"Searches for variables that predict birth weight.\n",
    "\n",
    "    df: DataFrame of pregnancy records\n",
    "\n",
    "    returns: list of (rsquared, variable name) pairs\n",
    "    \"\"\"\n",
    "    variables = []\n",
    "    for name in df.columns:\n",
    "        try:\n",
    "            if df[name].var() < 1e-7:\n",
    "                continue\n",
    "\n",
    "            # Modified to look for pregnancy length predictors that work best with pregnancy order\n",
    "            formula = 'prglngth ~ pregordr + ' + name\n",
    "            model = smf.ols(formula, data=df)\n",
    "            if model.nobs < len(df)/2:\n",
    "                continue\n",
    "\n",
    "            results = model.fit()\n",
    "        except (ValueError, TypeError, patsy.PatsyError) as e:\n",
    "            continue\n",
    "        \n",
    "        variables.append((results.rsquared, name))\n",
    "\n",
    "    return variables\n",
    "\n",
    "\n",
    "def ReadVariables():\n",
    "    \"\"\"Reads Stata dictionary files for NSFG data.\n",
    "\n",
    "    returns: DataFrame that maps variables names to descriptions\n",
    "    \"\"\"\n",
    "    vars1 = thinkstats2.ReadStataDct('2002FemPreg.dct').variables\n",
    "    vars2 = thinkstats2.ReadStataDct('2002FemResp.dct').variables\n",
    "\n",
    "    all_vars = vars1.append(vars2)\n",
    "    all_vars.index = all_vars.name\n",
    "    return all_vars\n",
    "\n",
    "\n",
    "def MiningReport(variables, n=30):\n",
    "    \"\"\"Prints variables with the highest R^2.\n",
    "\n",
    "    t: list of (R^2, variable name) pairs\n",
    "    n: number of pairs to print\n",
    "    \"\"\"\n",
    "    all_vars = ReadVariables()\n",
    "\n",
    "    variables.sort(reverse=True)\n",
    "    for r2, name in variables[:n]:\n",
    "        key = re.sub('_r$', '', name)\n",
    "        try:\n",
    "            desc = all_vars.loc[key].desc\n",
    "            if isinstance(desc, pd.Series):\n",
    "                desc = desc[0]\n",
    "            print(name, r2, desc)\n",
    "        except (KeyError, IndexError):\n",
    "            print(name, r2)"
   ]
  },
  {
   "cell_type": "markdown",
   "id": "8c8c5d06",
   "metadata": {},
   "source": [
    "# Chapter 11\n",
    "### Excercise 11-1"
   ]
  },
  {
   "cell_type": "markdown",
   "id": "ac06fe00",
   "metadata": {},
   "source": [
    "Suppose one of your co-workers is expecting a baby and you are participating in an office pool to predict the date of birth. Assuming that bets are placed during the 30th week of pregnancy, what variables could you use to make the best prediction? You should limit yourself to variables that are known before the birth, and likely to be available to the people in the pool."
   ]
  },
  {
   "cell_type": "markdown",
   "id": "dd051d1b",
   "metadata": {},
   "source": [
    "*Looking through the list of variables in the dataset, here is my short list of possibly helpful variables:*\n",
    "- pregordr = what pregnancy is this for the mother?\n",
    "- babysex = Boy or girl?\n",
    "- agepreg = age at pregnancy outcome\n",
    "- race = mother's race\n",
    "\n",
    "Dependent variable:\n",
    "- prglngth = duration of completed pregnancy in weeks\n",
    "\n",
    "\n",
    "*Let's see if we can find which ones are good predictors.*"
   ]
  },
  {
   "cell_type": "code",
   "execution_count": 7,
   "id": "27e7b58d",
   "metadata": {},
   "outputs": [
    {
     "name": "stdout",
     "output_type": "stream",
     "text": [
      "Pregnancy length as predicted by pregnancy number\n",
      "Intercept   39   (0)\n",
      "pregordr   -0.033   (0.0187)\n",
      "R^2 0.0006222\n",
      "Std(ys) 1.898\n",
      "Std(res) 1.897\n"
     ]
    }
   ],
   "source": [
    "print('Pregnancy length as predicted by pregnancy number')\n",
    "formula = 'prglngth ~ pregordr'\n",
    "\n",
    "# Combines the dataframe and the selected variables and computes ordinary least squares\n",
    "model = smf.ols(formula, data=live)\n",
    "\n",
    "# Fit finds a model that fits the data and outputs a regression object\n",
    "results = model.fit()\n",
    "\n",
    "# Outputs abreviated summary statistics from the fitted regression\n",
    "SummarizeResults(results)"
   ]
  },
  {
   "cell_type": "markdown",
   "id": "0f1beb95",
   "metadata": {},
   "source": [
    "*Pregnancy number is a good predictor of pregnancy length (p-value 0.0187)*"
   ]
  },
  {
   "cell_type": "code",
   "execution_count": 8,
   "id": "cc6fdaaf",
   "metadata": {},
   "outputs": [
    {
     "name": "stdout",
     "output_type": "stream",
     "text": [
      "Pregnancy length as predicted by baby gender\n",
      "Intercept   39   (0)\n",
      "babysex   -0.0525   (0.193)\n",
      "R^2 0.0001912\n",
      "Std(ys) 1.898\n",
      "Std(res) 1.898\n"
     ]
    }
   ],
   "source": [
    "print('Pregnancy length as predicted by baby gender')\n",
    "formula = 'prglngth ~ babysex'\n",
    "\n",
    "# Combines the dataframe and the selected variables and computes ordinary least squares\n",
    "model = smf.ols(formula, data=live)\n",
    "\n",
    "# Fit finds a model that fits the data and outputs a regression object\n",
    "results = model.fit()\n",
    "\n",
    "# Outputs abreviated summary statistics from the fitted regression\n",
    "SummarizeResults(results)"
   ]
  },
  {
   "cell_type": "markdown",
   "id": "ce1d641b",
   "metadata": {},
   "source": [
    "*Baby's gender is NOT a good predictor of pregnancy length (p-value 0.193)*"
   ]
  },
  {
   "cell_type": "code",
   "execution_count": 9,
   "id": "801ccb7c",
   "metadata": {},
   "outputs": [
    {
     "name": "stdout",
     "output_type": "stream",
     "text": [
      "Pregnancy length as predicted by mother age\n",
      "Intercept   38.9   (0)\n",
      "agepreg   -0.00143   (0.693)\n",
      "R^2 1.76e-05\n",
      "Std(ys) 1.898\n",
      "Std(res) 1.898\n"
     ]
    }
   ],
   "source": [
    "print('Pregnancy length as predicted by mother age')\n",
    "formula = 'prglngth ~ agepreg'\n",
    "\n",
    "# Combines the dataframe and the selected variables and computes ordinary least squares\n",
    "model = smf.ols(formula, data=live)\n",
    "\n",
    "# Fit finds a model that fits the data and outputs a regression object\n",
    "results = model.fit()\n",
    "\n",
    "# Outputs abreviated summary statistics from the fitted regression\n",
    "SummarizeResults(results)"
   ]
  },
  {
   "cell_type": "markdown",
   "id": "daf9f380",
   "metadata": {},
   "source": [
    "*Mother's age is NOT a good predictor of pregnancy length (p-value 0.693)*"
   ]
  },
  {
   "cell_type": "code",
   "execution_count": 10,
   "id": "1b1efc01",
   "metadata": {},
   "outputs": [
    {
     "name": "stdout",
     "output_type": "stream",
     "text": [
      "Pregnancy length as predicted by race\n",
      "Intercept   38.8   (0)\n",
      "race   0.0594   (0.0947)\n",
      "R^2 0.0003144\n",
      "Std(ys) 1.898\n",
      "Std(res) 1.898\n"
     ]
    }
   ],
   "source": [
    "print('Pregnancy length as predicted by race')\n",
    "formula = 'prglngth ~ race'\n",
    "\n",
    "# Combines the dataframe and the selected variables and computes ordinary least squares\n",
    "model = smf.ols(formula, data=live)\n",
    "\n",
    "# Fit finds a model that fits the data and outputs a regression object\n",
    "results = model.fit()\n",
    "\n",
    "# Outputs abreviated summary statistics from the fitted regression\n",
    "SummarizeResults(results)"
   ]
  },
  {
   "cell_type": "markdown",
   "id": "fe28f4fc",
   "metadata": {},
   "source": [
    "*Mother's race is an ok predictor of pregnancy length (p-value 0.0947)*"
   ]
  },
  {
   "cell_type": "markdown",
   "id": "c3353888",
   "metadata": {},
   "source": [
    "*So from all that we have a short list of pregnancy number (pregordr) and mother's race (race).*\n",
    "\n",
    "*Let's go data mining and see what we find...*"
   ]
  },
  {
   "cell_type": "code",
   "execution_count": 11,
   "id": "83016366",
   "metadata": {},
   "outputs": [],
   "source": [
    "# Import data into live and resp dataframes and then join them based on caseid\n",
    "import nsfg\n",
    "\n",
    "# Filter for pregnancies longer than 30 weeks and create dataframe\n",
    "live = live[live.prglngth>30]\n",
    "\n",
    "# Create dataframe of responses\n",
    "resp = nsfg.ReadFemResp()\n",
    "\n",
    "# Define identifier\n",
    "resp.index = resp.caseid\n",
    "\n",
    "# Join dataframs based on shared identifier\n",
    "join = live.join(resp, on='caseid', rsuffix='_r')"
   ]
  },
  {
   "cell_type": "code",
   "execution_count": 12,
   "id": "aff183a9",
   "metadata": {},
   "outputs": [
    {
     "name": "stdout",
     "output_type": "stream",
     "text": [
      "prglngth 1.0 DURATION OF COMPLETED PREGNANCY IN WEEKS\n",
      "wksgest 0.8063083681530956 GESTATIONAL LENGTH OF COMPLETED PREGNANCY (IN WEEKS)\n",
      "totalwgt_lb 0.12532496173938545\n",
      "birthwgt_lb 0.12062744546420201 BD-3 BIRTHWEIGHT IN POUNDS - 1ST BABY FROM THIS PREGNANCY\n",
      "lbw1 0.1041933580414558 LOW BIRTHWEIGHT - BABY 1\n",
      "mosgest 0.096042142512203 GESTATIONAL LENGTH OF COMPLETED PREGNANCY (IN MONTHS)\n",
      "prglngth_i 0.023315315330877828 PRGLNGTH IMPUTATION FLAG\n",
      "datcon01_i 0.006266940713901659 DATCON01 IMPUTATION FLAG\n",
      "canhaver 0.006165339208669018 DF-1 PHYSICALLY DIFFICULT FOR R TO HAVE A BABY\n",
      "con1mar1_i 0.00595401826330233 CON1MAR1 IMPUTATION FLAG\n",
      "nbrnaliv 0.005062293351614122 BC-2 NUMBER OF BABIES BORN ALIVE FROM THIS PREGNANCY\n",
      "chedmarn 0.004364138596498979 CB-11 HIGHEST LEVEL OF EDUCATION-1ST HUSBAND\n",
      "ptsb4mar 0.003845006562791742 CH-3 # OF MALE SEX PARTNERS PRIOR TO 1ST MARRIAGE\n",
      "monsx1233 0.003807137277237027 EC-8 SEX IN SEPTEMBER 2002?\n",
      "mar1con1_i 0.0036301023456278836 MAR1CON1 IMPUTATION FLAG\n",
      "methstop01 0.0035907287423971868 EA-23 METHOD STOPPED USING DUE TO DISSATISFACTION-1ST METHOD\n",
      "marbefhx 0.0034436754906005396 CB-12 WAS HE MARRIED BEFORE-1ST HUSBAND\n",
      "mar1diss 0.0032089489611563105 MONTHS BTW/1ST MARRIAGE & DISSOLUTION (OR INTERVIEW)\n",
      "anynurse 0.003174312526256995 BH-1 WHETHER R BREASTFED THIS CHILD AT ALL - 1ST FROM THIS PREG\n",
      "hisphx 0.003157218216713442 CB-8 HISPANIC ORIGIN-1ST HUSBAND\n",
      "pregend1 0.0029453656984960164 BC-1 HOW PREGNANCY ENDED - 1ST MENTION\n",
      "cmhivtst 0.002899868899560065 CM OF LAST (OR MOST RECENT) HIV TEST\n",
      "kidshx 0.0028670944708705237 CB-13 DID HE HAVE KIDS FROM PRIOR RELATIONSHIP-1ST HUSBAND\n",
      "bfeedwks 0.0028408022857993043 DURATION OF BREASTFEEDING IN WEEKS\n",
      "manrel 0.0028373175967952857 WHETHER MAN IN HH R S HUSBAND OR COHABITING PARTNER\n",
      "methhist451 0.002835178748508138 ED-6 METHOD(S) USED IN (SEP 2002)-1ST MENTION\n",
      "nummult45 0.002779365948084922 NUMBER OF METHODS REPORTED IN (SEP 2002)\n",
      "rmarout11_i 0.0026755472218836784 RMAROUT11 IMPUTATION FLAG\n",
      "marout11_i 0.0026755472218836784 MAROUT11 IMPUTATION FLAG\n",
      "marcon11_i 0.0026755472218836784 MARCON11 IMPUTATION FLAG\n"
     ]
    },
    {
     "name": "stderr",
     "output_type": "stream",
     "text": [
      "/var/folders/fn/gx6f152n3ml122r2lwdkncvc0000gn/T/ipykernel_78772/773936657.py:44: FutureWarning: The frame.append method is deprecated and will be removed from pandas in a future version. Use pandas.concat instead.\n",
      "  all_vars = vars1.append(vars2)\n"
     ]
    }
   ],
   "source": [
    "variables = GoMining(join)\n",
    "MiningReport(variables)"
   ]
  },
  {
   "cell_type": "markdown",
   "id": "fbb3ea9c",
   "metadata": {},
   "source": [
    "*From our data mining, the top distinct predictor of pregnancy length when combined with pregnancy order are birth weight (birthwgt_lb) at R2=0.12 and number of births a multiple birth pregnancy (nbrnaliv) (R2=0.005).*"
   ]
  },
  {
   "cell_type": "code",
   "execution_count": 13,
   "id": "db3f046c",
   "metadata": {
    "scrolled": false
   },
   "outputs": [
    {
     "data": {
      "text/html": [
       "<table class=\"simpletable\">\n",
       "<caption>OLS Regression Results</caption>\n",
       "<tr>\n",
       "  <th>Dep. Variable:</th>        <td>prglngth</td>     <th>  R-squared:         </th> <td>   0.122</td> \n",
       "</tr>\n",
       "<tr>\n",
       "  <th>Model:</th>                   <td>OLS</td>       <th>  Adj. R-squared:    </th> <td>   0.122</td> \n",
       "</tr>\n",
       "<tr>\n",
       "  <th>Method:</th>             <td>Least Squares</td>  <th>  F-statistic:       </th> <td>   407.9</td> \n",
       "</tr>\n",
       "<tr>\n",
       "  <th>Date:</th>             <td>Thu, 27 Oct 2022</td> <th>  Prob (F-statistic):</th> <td>3.61e-248</td>\n",
       "</tr>\n",
       "<tr>\n",
       "  <th>Time:</th>                 <td>22:00:00</td>     <th>  Log-Likelihood:    </th> <td> -17618.</td> \n",
       "</tr>\n",
       "<tr>\n",
       "  <th>No. Observations:</th>      <td>  8825</td>      <th>  AIC:               </th> <td>3.524e+04</td>\n",
       "</tr>\n",
       "<tr>\n",
       "  <th>Df Residuals:</th>          <td>  8821</td>      <th>  BIC:               </th> <td>3.527e+04</td>\n",
       "</tr>\n",
       "<tr>\n",
       "  <th>Df Model:</th>              <td>     3</td>      <th>                     </th>     <td> </td>    \n",
       "</tr>\n",
       "<tr>\n",
       "  <th>Covariance Type:</th>      <td>nonrobust</td>    <th>                     </th>     <td> </td>    \n",
       "</tr>\n",
       "</table>\n",
       "<table class=\"simpletable\">\n",
       "<tr>\n",
       "       <td></td>          <th>coef</th>     <th>std err</th>      <th>t</th>      <th>P>|t|</th>  <th>[0.025</th>    <th>0.975]</th>  \n",
       "</tr>\n",
       "<tr>\n",
       "  <th>Intercept</th>   <td>   35.8109</td> <td>    0.160</td> <td>  223.358</td> <td> 0.000</td> <td>   35.497</td> <td>   36.125</td>\n",
       "</tr>\n",
       "<tr>\n",
       "  <th>pregordr</th>    <td>   -0.0367</td> <td>    0.013</td> <td>   -2.764</td> <td> 0.006</td> <td>   -0.063</td> <td>   -0.011</td>\n",
       "</tr>\n",
       "<tr>\n",
       "  <th>birthwgt_lb</th> <td>    0.5105</td> <td>    0.015</td> <td>   34.235</td> <td> 0.000</td> <td>    0.481</td> <td>    0.540</td>\n",
       "</tr>\n",
       "<tr>\n",
       "  <th>nbrnaliv</th>    <td>   -0.3752</td> <td>    0.108</td> <td>   -3.484</td> <td> 0.000</td> <td>   -0.586</td> <td>   -0.164</td>\n",
       "</tr>\n",
       "</table>\n",
       "<table class=\"simpletable\">\n",
       "<tr>\n",
       "  <th>Omnibus:</th>       <td>1052.152</td> <th>  Durbin-Watson:     </th> <td>   1.616</td>\n",
       "</tr>\n",
       "<tr>\n",
       "  <th>Prob(Omnibus):</th>  <td> 0.000</td>  <th>  Jarque-Bera (JB):  </th> <td>4742.660</td>\n",
       "</tr>\n",
       "<tr>\n",
       "  <th>Skew:</th>           <td>-0.508</td>  <th>  Prob(JB):          </th> <td>    0.00</td>\n",
       "</tr>\n",
       "<tr>\n",
       "  <th>Kurtosis:</th>       <td> 6.444</td>  <th>  Cond. No.          </th> <td>    72.4</td>\n",
       "</tr>\n",
       "</table><br/><br/>Notes:<br/>[1] Standard Errors assume that the covariance matrix of the errors is correctly specified."
      ],
      "text/plain": [
       "<class 'statsmodels.iolib.summary.Summary'>\n",
       "\"\"\"\n",
       "                            OLS Regression Results                            \n",
       "==============================================================================\n",
       "Dep. Variable:               prglngth   R-squared:                       0.122\n",
       "Model:                            OLS   Adj. R-squared:                  0.122\n",
       "Method:                 Least Squares   F-statistic:                     407.9\n",
       "Date:                Thu, 27 Oct 2022   Prob (F-statistic):          3.61e-248\n",
       "Time:                        22:00:00   Log-Likelihood:                -17618.\n",
       "No. Observations:                8825   AIC:                         3.524e+04\n",
       "Df Residuals:                    8821   BIC:                         3.527e+04\n",
       "Df Model:                           3                                         \n",
       "Covariance Type:            nonrobust                                         \n",
       "===============================================================================\n",
       "                  coef    std err          t      P>|t|      [0.025      0.975]\n",
       "-------------------------------------------------------------------------------\n",
       "Intercept      35.8109      0.160    223.358      0.000      35.497      36.125\n",
       "pregordr       -0.0367      0.013     -2.764      0.006      -0.063      -0.011\n",
       "birthwgt_lb     0.5105      0.015     34.235      0.000       0.481       0.540\n",
       "nbrnaliv       -0.3752      0.108     -3.484      0.000      -0.586      -0.164\n",
       "==============================================================================\n",
       "Omnibus:                     1052.152   Durbin-Watson:                   1.616\n",
       "Prob(Omnibus):                  0.000   Jarque-Bera (JB):             4742.660\n",
       "Skew:                          -0.508   Prob(JB):                         0.00\n",
       "Kurtosis:                       6.444   Cond. No.                         72.4\n",
       "==============================================================================\n",
       "\n",
       "Notes:\n",
       "[1] Standard Errors assume that the covariance matrix of the errors is correctly specified.\n",
       "\"\"\""
      ]
     },
     "execution_count": 13,
     "metadata": {},
     "output_type": "execute_result"
    }
   ],
   "source": [
    "# Run the model to see stats\n",
    "model = smf.ols('prglngth ~ pregordr + birthwgt_lb + nbrnaliv', data=live)\n",
    "results = model.fit()\n",
    "results.summary()"
   ]
  },
  {
   "cell_type": "markdown",
   "id": "a595ca44",
   "metadata": {},
   "source": [
    "*We can't actually run the model for an estimate without more information, in this case is this her first pregnancy, how much does the baby weigh now, and how many infants is she carrying?*\n",
    "\n",
    "*It is also worth noting that the R2 of the model is 0.122 which is not great and indicates that the model as is would not be great at predicting.*"
   ]
  },
  {
   "cell_type": "markdown",
   "id": "9a8bab44",
   "metadata": {},
   "source": [
    "### Excercise 11-3"
   ]
  },
  {
   "cell_type": "markdown",
   "id": "f6d9616b",
   "metadata": {},
   "source": [
    "If the quantity you want to predict is a count, you can use Poisson regression, which is implemented in StatsModels with a function called `poisson`. It works the same way as `ols` and `logit`. As an exercise, let’s use it to predict how many children a woman has born; in the NSFG dataset, this variable is called `numbabes`.\n",
    "\n",
    "Suppose you meet a woman who is 35 years old, black, and a college graduate whose annual household income exceeds $75,000. How many children would you predict she has born?"
   ]
  },
  {
   "cell_type": "code",
   "execution_count": 14,
   "id": "bdc2e40b",
   "metadata": {},
   "outputs": [
    {
     "name": "stdout",
     "output_type": "stream",
     "text": [
      "Optimization terminated successfully.\n",
      "         Current function value: 1.690116\n",
      "         Iterations 7\n"
     ]
    },
    {
     "data": {
      "text/html": [
       "<table class=\"simpletable\">\n",
       "<caption>Poisson Regression Results</caption>\n",
       "<tr>\n",
       "  <th>Dep. Variable:</th>       <td>numbabes</td>     <th>  No. Observations:  </th>   <td>  8884</td>  \n",
       "</tr>\n",
       "<tr>\n",
       "  <th>Model:</th>                <td>Poisson</td>     <th>  Df Residuals:      </th>   <td>  8877</td>  \n",
       "</tr>\n",
       "<tr>\n",
       "  <th>Method:</th>                 <td>MLE</td>       <th>  Df Model:          </th>   <td>     6</td>  \n",
       "</tr>\n",
       "<tr>\n",
       "  <th>Date:</th>            <td>Thu, 27 Oct 2022</td> <th>  Pseudo R-squ.:     </th>   <td>0.02933</td> \n",
       "</tr>\n",
       "<tr>\n",
       "  <th>Time:</th>                <td>22:00:01</td>     <th>  Log-Likelihood:    </th>  <td> -15015.</td> \n",
       "</tr>\n",
       "<tr>\n",
       "  <th>converged:</th>             <td>True</td>       <th>  LL-Null:           </th>  <td> -15469.</td> \n",
       "</tr>\n",
       "<tr>\n",
       "  <th>Covariance Type:</th>     <td>nonrobust</td>    <th>  LLR p-value:       </th> <td>9.249e-193</td>\n",
       "</tr>\n",
       "</table>\n",
       "<table class=\"simpletable\">\n",
       "<tr>\n",
       "        <td></td>          <th>coef</th>     <th>std err</th>      <th>z</th>      <th>P>|z|</th>  <th>[0.025</th>    <th>0.975]</th>  \n",
       "</tr>\n",
       "<tr>\n",
       "  <th>Intercept</th>    <td>    1.4021</td> <td>    0.039</td> <td>   35.930</td> <td> 0.000</td> <td>    1.326</td> <td>    1.479</td>\n",
       "</tr>\n",
       "<tr>\n",
       "  <th>C(race)[T.2]</th> <td>   -0.1439</td> <td>    0.015</td> <td>   -9.661</td> <td> 0.000</td> <td>   -0.173</td> <td>   -0.115</td>\n",
       "</tr>\n",
       "<tr>\n",
       "  <th>C(race)[T.3]</th> <td>   -0.0953</td> <td>    0.025</td> <td>   -3.867</td> <td> 0.000</td> <td>   -0.144</td> <td>   -0.047</td>\n",
       "</tr>\n",
       "<tr>\n",
       "  <th>agepreg</th>      <td>    0.0027</td> <td>    0.001</td> <td>    2.001</td> <td> 0.045</td> <td> 5.47e-05</td> <td>    0.005</td>\n",
       "</tr>\n",
       "<tr>\n",
       "  <th>age2</th>         <td>    0.0003</td> <td> 1.62e-05</td> <td>   17.061</td> <td> 0.000</td> <td>    0.000</td> <td>    0.000</td>\n",
       "</tr>\n",
       "<tr>\n",
       "  <th>totincr</th>      <td>   -0.0176</td> <td>    0.002</td> <td>   -9.247</td> <td> 0.000</td> <td>   -0.021</td> <td>   -0.014</td>\n",
       "</tr>\n",
       "<tr>\n",
       "  <th>educat</th>       <td>   -0.0451</td> <td>    0.003</td> <td>  -14.890</td> <td> 0.000</td> <td>   -0.051</td> <td>   -0.039</td>\n",
       "</tr>\n",
       "</table>"
      ],
      "text/plain": [
       "<class 'statsmodels.iolib.summary.Summary'>\n",
       "\"\"\"\n",
       "                          Poisson Regression Results                          \n",
       "==============================================================================\n",
       "Dep. Variable:               numbabes   No. Observations:                 8884\n",
       "Model:                        Poisson   Df Residuals:                     8877\n",
       "Method:                           MLE   Df Model:                            6\n",
       "Date:                Thu, 27 Oct 2022   Pseudo R-squ.:                 0.02933\n",
       "Time:                        22:00:01   Log-Likelihood:                -15015.\n",
       "converged:                       True   LL-Null:                       -15469.\n",
       "Covariance Type:            nonrobust   LLR p-value:                9.249e-193\n",
       "================================================================================\n",
       "                   coef    std err          z      P>|z|      [0.025      0.975]\n",
       "--------------------------------------------------------------------------------\n",
       "Intercept        1.4021      0.039     35.930      0.000       1.326       1.479\n",
       "C(race)[T.2]    -0.1439      0.015     -9.661      0.000      -0.173      -0.115\n",
       "C(race)[T.3]    -0.0953      0.025     -3.867      0.000      -0.144      -0.047\n",
       "agepreg          0.0027      0.001      2.001      0.045    5.47e-05       0.005\n",
       "age2             0.0003   1.62e-05     17.061      0.000       0.000       0.000\n",
       "totincr         -0.0176      0.002     -9.247      0.000      -0.021      -0.014\n",
       "educat          -0.0451      0.003    -14.890      0.000      -0.051      -0.039\n",
       "================================================================================\n",
       "\"\"\""
      ]
     },
     "execution_count": 14,
     "metadata": {},
     "output_type": "execute_result"
    }
   ],
   "source": [
    "# Add non-linear model for age\n",
    "join['age2'] = join.age_r**2\n",
    "\n",
    "formula = 'numbabes ~ agepreg + age2 + C(race) + totincr + educat'\n",
    "model = smf.poisson(formula, data=join)\n",
    "results = model.fit()\n",
    "results.summary() "
   ]
  },
  {
   "cell_type": "code",
   "execution_count": 15,
   "id": "e9726805",
   "metadata": {},
   "outputs": [
    {
     "data": {
      "text/plain": [
       "0    2.379328\n",
       "dtype: float64"
      ]
     },
     "execution_count": 15,
     "metadata": {},
     "output_type": "execute_result"
    }
   ],
   "source": [
    "# Apply input values\n",
    "columns = ['agepreg', 'age2', 'race', 'totincr', 'educat']\n",
    "# Age = 35, Race = black=1, Income = $75,000=14, Education = college grad=16\n",
    "new = pd.DataFrame([[35, 35**2, 1, 14, 16]], columns=columns)\n",
    "results.predict(new)"
   ]
  },
  {
   "cell_type": "markdown",
   "id": "89fb37f9",
   "metadata": {},
   "source": [
    "*Based on my model, I would predict she would have 2.3 children, but since that is a decimal number, then let's say 2-3 children.*"
   ]
  },
  {
   "cell_type": "markdown",
   "id": "ad13c966",
   "metadata": {},
   "source": [
    "### Excercise 11-4"
   ]
  },
  {
   "cell_type": "markdown",
   "id": "0a9bceb4",
   "metadata": {},
   "source": [
    "If the quantity you want to predict is categorical, you can use multinomial logistic regression, which is implemented in StatsModels with a function called mnlogit. As an exercise, let’s use it to guess whether a woman is married, cohabitating, widowed, divorced, separated, or never married; in the NSFG dataset, marital status is encoded in a variable called rmarital. \n",
    "\n",
    "Suppose you meet a woman who is 25 years old, white, and a high school graduate whose annual household income is about $45,000. What is the probability that she is married, cohabitating, etc?"
   ]
  },
  {
   "cell_type": "code",
   "execution_count": 16,
   "id": "d5d8a39c",
   "metadata": {},
   "outputs": [
    {
     "name": "stdout",
     "output_type": "stream",
     "text": [
      "Optimization terminated successfully.\n",
      "         Current function value: 1.080914\n",
      "         Iterations 8\n"
     ]
    },
    {
     "data": {
      "text/html": [
       "<table class=\"simpletable\">\n",
       "<caption>MNLogit Regression Results</caption>\n",
       "<tr>\n",
       "  <th>Dep. Variable:</th>       <td>rmarital</td>     <th>  No. Observations:  </th>  <td>  8884</td> \n",
       "</tr>\n",
       "<tr>\n",
       "  <th>Model:</th>                <td>MNLogit</td>     <th>  Df Residuals:      </th>  <td>  8849</td> \n",
       "</tr>\n",
       "<tr>\n",
       "  <th>Method:</th>                 <td>MLE</td>       <th>  Df Model:          </th>  <td>    30</td> \n",
       "</tr>\n",
       "<tr>\n",
       "  <th>Date:</th>            <td>Thu, 27 Oct 2022</td> <th>  Pseudo R-squ.:     </th>  <td>0.1707</td> \n",
       "</tr>\n",
       "<tr>\n",
       "  <th>Time:</th>                <td>22:00:02</td>     <th>  Log-Likelihood:    </th> <td> -9602.8</td>\n",
       "</tr>\n",
       "<tr>\n",
       "  <th>converged:</th>             <td>True</td>       <th>  LL-Null:           </th> <td> -11579.</td>\n",
       "</tr>\n",
       "<tr>\n",
       "  <th>Covariance Type:</th>     <td>nonrobust</td>    <th>  LLR p-value:       </th>  <td> 0.000</td> \n",
       "</tr>\n",
       "</table>\n",
       "<table class=\"simpletable\">\n",
       "<tr>\n",
       "   <th>rmarital=2</th>     <th>coef</th>     <th>std err</th>      <th>z</th>      <th>P>|z|</th>  <th>[0.025</th>    <th>0.975]</th>  \n",
       "</tr>\n",
       "<tr>\n",
       "  <th>Intercept</th>    <td>    4.1160</td> <td>    0.258</td> <td>   15.960</td> <td> 0.000</td> <td>    3.610</td> <td>    4.621</td>\n",
       "</tr>\n",
       "<tr>\n",
       "  <th>C(race)[T.2]</th> <td>   -0.8495</td> <td>    0.089</td> <td>   -9.538</td> <td> 0.000</td> <td>   -1.024</td> <td>   -0.675</td>\n",
       "</tr>\n",
       "<tr>\n",
       "  <th>C(race)[T.3]</th> <td>   -0.5716</td> <td>    0.136</td> <td>   -4.208</td> <td> 0.000</td> <td>   -0.838</td> <td>   -0.305</td>\n",
       "</tr>\n",
       "<tr>\n",
       "  <th>agepreg</th>      <td>   -0.0527</td> <td>    0.009</td> <td>   -6.151</td> <td> 0.000</td> <td>   -0.069</td> <td>   -0.036</td>\n",
       "</tr>\n",
       "<tr>\n",
       "  <th>age2</th>         <td>   -0.0006</td> <td> 9.85e-05</td> <td>   -5.706</td> <td> 0.000</td> <td>   -0.001</td> <td>   -0.000</td>\n",
       "</tr>\n",
       "<tr>\n",
       "  <th>totincr</th>      <td>   -0.1299</td> <td>    0.012</td> <td>  -11.256</td> <td> 0.000</td> <td>   -0.152</td> <td>   -0.107</td>\n",
       "</tr>\n",
       "<tr>\n",
       "  <th>educat</th>       <td>   -0.1781</td> <td>    0.019</td> <td>   -9.282</td> <td> 0.000</td> <td>   -0.216</td> <td>   -0.140</td>\n",
       "</tr>\n",
       "<tr>\n",
       "   <th>rmarital=3</th>     <th>coef</th>     <th>std err</th>      <th>z</th>      <th>P>|z|</th>  <th>[0.025</th>    <th>0.975]</th>  \n",
       "</tr>\n",
       "<tr>\n",
       "  <th>Intercept</th>    <td>   -1.9517</td> <td>    0.726</td> <td>   -2.690</td> <td> 0.007</td> <td>   -3.374</td> <td>   -0.529</td>\n",
       "</tr>\n",
       "<tr>\n",
       "  <th>C(race)[T.2]</th> <td>   -0.3785</td> <td>    0.237</td> <td>   -1.595</td> <td> 0.111</td> <td>   -0.844</td> <td>    0.087</td>\n",
       "</tr>\n",
       "<tr>\n",
       "  <th>C(race)[T.3]</th> <td>    0.0947</td> <td>    0.336</td> <td>    0.282</td> <td> 0.778</td> <td>   -0.563</td> <td>    0.753</td>\n",
       "</tr>\n",
       "<tr>\n",
       "  <th>agepreg</th>      <td>   -0.0385</td> <td>    0.018</td> <td>   -2.111</td> <td> 0.035</td> <td>   -0.074</td> <td>   -0.003</td>\n",
       "</tr>\n",
       "<tr>\n",
       "  <th>age2</th>         <td>    0.0021</td> <td>    0.000</td> <td>    7.665</td> <td> 0.000</td> <td>    0.002</td> <td>    0.003</td>\n",
       "</tr>\n",
       "<tr>\n",
       "  <th>totincr</th>      <td>   -0.3247</td> <td>    0.032</td> <td>  -10.172</td> <td> 0.000</td> <td>   -0.387</td> <td>   -0.262</td>\n",
       "</tr>\n",
       "<tr>\n",
       "  <th>educat</th>       <td>   -0.0783</td> <td>    0.049</td> <td>   -1.585</td> <td> 0.113</td> <td>   -0.175</td> <td>    0.018</td>\n",
       "</tr>\n",
       "<tr>\n",
       "   <th>rmarital=4</th>     <th>coef</th>     <th>std err</th>      <th>z</th>      <th>P>|z|</th>  <th>[0.025</th>    <th>0.975]</th>  \n",
       "</tr>\n",
       "<tr>\n",
       "  <th>Intercept</th>    <td>   -0.7939</td> <td>    0.251</td> <td>   -3.166</td> <td> 0.002</td> <td>   -1.285</td> <td>   -0.302</td>\n",
       "</tr>\n",
       "<tr>\n",
       "  <th>C(race)[T.2]</th> <td>   -0.2210</td> <td>    0.094</td> <td>   -2.340</td> <td> 0.019</td> <td>   -0.406</td> <td>   -0.036</td>\n",
       "</tr>\n",
       "<tr>\n",
       "  <th>C(race)[T.3]</th> <td>   -0.6871</td> <td>    0.172</td> <td>   -3.999</td> <td> 0.000</td> <td>   -1.024</td> <td>   -0.350</td>\n",
       "</tr>\n",
       "<tr>\n",
       "  <th>agepreg</th>      <td>   -0.0719</td> <td>    0.008</td> <td>   -9.140</td> <td> 0.000</td> <td>   -0.087</td> <td>   -0.056</td>\n",
       "</tr>\n",
       "<tr>\n",
       "  <th>age2</th>         <td>    0.0012</td> <td> 9.71e-05</td> <td>   12.418</td> <td> 0.000</td> <td>    0.001</td> <td>    0.001</td>\n",
       "</tr>\n",
       "<tr>\n",
       "  <th>totincr</th>      <td>   -0.2240</td> <td>    0.012</td> <td>  -19.215</td> <td> 0.000</td> <td>   -0.247</td> <td>   -0.201</td>\n",
       "</tr>\n",
       "<tr>\n",
       "  <th>educat</th>       <td>    0.1131</td> <td>    0.018</td> <td>    6.427</td> <td> 0.000</td> <td>    0.079</td> <td>    0.148</td>\n",
       "</tr>\n",
       "<tr>\n",
       "   <th>rmarital=5</th>     <th>coef</th>     <th>std err</th>      <th>z</th>      <th>P>|z|</th>  <th>[0.025</th>    <th>0.975]</th>  \n",
       "</tr>\n",
       "<tr>\n",
       "  <th>Intercept</th>    <td>    1.7639</td> <td>    0.308</td> <td>    5.724</td> <td> 0.000</td> <td>    1.160</td> <td>    2.368</td>\n",
       "</tr>\n",
       "<tr>\n",
       "  <th>C(race)[T.2]</th> <td>   -0.9680</td> <td>    0.104</td> <td>   -9.272</td> <td> 0.000</td> <td>   -1.173</td> <td>   -0.763</td>\n",
       "</tr>\n",
       "<tr>\n",
       "  <th>C(race)[T.3]</th> <td>   -0.5024</td> <td>    0.157</td> <td>   -3.209</td> <td> 0.001</td> <td>   -0.809</td> <td>   -0.196</td>\n",
       "</tr>\n",
       "<tr>\n",
       "  <th>agepreg</th>      <td>   -0.0705</td> <td>    0.010</td> <td>   -7.094</td> <td> 0.000</td> <td>   -0.090</td> <td>   -0.051</td>\n",
       "</tr>\n",
       "<tr>\n",
       "  <th>age2</th>         <td>    0.0004</td> <td>    0.000</td> <td>    3.275</td> <td> 0.001</td> <td>    0.000</td> <td>    0.001</td>\n",
       "</tr>\n",
       "<tr>\n",
       "  <th>totincr</th>      <td>   -0.2900</td> <td>    0.015</td> <td>  -19.937</td> <td> 0.000</td> <td>   -0.319</td> <td>   -0.261</td>\n",
       "</tr>\n",
       "<tr>\n",
       "  <th>educat</th>       <td>    0.0258</td> <td>    0.022</td> <td>    1.163</td> <td> 0.245</td> <td>   -0.018</td> <td>    0.069</td>\n",
       "</tr>\n",
       "<tr>\n",
       "   <th>rmarital=6</th>     <th>coef</th>     <th>std err</th>      <th>z</th>      <th>P>|z|</th>  <th>[0.025</th>    <th>0.975]</th>  \n",
       "</tr>\n",
       "<tr>\n",
       "  <th>Intercept</th>    <td>    5.5262</td> <td>    0.256</td> <td>   21.579</td> <td> 0.000</td> <td>    5.024</td> <td>    6.028</td>\n",
       "</tr>\n",
       "<tr>\n",
       "  <th>C(race)[T.2]</th> <td>   -2.1072</td> <td>    0.080</td> <td>  -26.183</td> <td> 0.000</td> <td>   -2.265</td> <td>   -1.949</td>\n",
       "</tr>\n",
       "<tr>\n",
       "  <th>C(race)[T.3]</th> <td>   -1.9068</td> <td>    0.138</td> <td>  -13.813</td> <td> 0.000</td> <td>   -2.177</td> <td>   -1.636</td>\n",
       "</tr>\n",
       "<tr>\n",
       "  <th>agepreg</th>      <td>   -0.0599</td> <td>    0.008</td> <td>   -7.108</td> <td> 0.000</td> <td>   -0.076</td> <td>   -0.043</td>\n",
       "</tr>\n",
       "<tr>\n",
       "  <th>age2</th>         <td>   -0.0011</td> <td> 9.85e-05</td> <td>  -11.554</td> <td> 0.000</td> <td>   -0.001</td> <td>   -0.001</td>\n",
       "</tr>\n",
       "<tr>\n",
       "  <th>totincr</th>      <td>   -0.2936</td> <td>    0.012</td> <td>  -25.222</td> <td> 0.000</td> <td>   -0.316</td> <td>   -0.271</td>\n",
       "</tr>\n",
       "<tr>\n",
       "  <th>educat</th>       <td>   -0.0496</td> <td>    0.018</td> <td>   -2.725</td> <td> 0.006</td> <td>   -0.085</td> <td>   -0.014</td>\n",
       "</tr>\n",
       "</table>"
      ],
      "text/plain": [
       "<class 'statsmodels.iolib.summary.Summary'>\n",
       "\"\"\"\n",
       "                          MNLogit Regression Results                          \n",
       "==============================================================================\n",
       "Dep. Variable:               rmarital   No. Observations:                 8884\n",
       "Model:                        MNLogit   Df Residuals:                     8849\n",
       "Method:                           MLE   Df Model:                           30\n",
       "Date:                Thu, 27 Oct 2022   Pseudo R-squ.:                  0.1707\n",
       "Time:                        22:00:02   Log-Likelihood:                -9602.8\n",
       "converged:                       True   LL-Null:                       -11579.\n",
       "Covariance Type:            nonrobust   LLR p-value:                     0.000\n",
       "================================================================================\n",
       "  rmarital=2       coef    std err          z      P>|z|      [0.025      0.975]\n",
       "--------------------------------------------------------------------------------\n",
       "Intercept        4.1160      0.258     15.960      0.000       3.610       4.621\n",
       "C(race)[T.2]    -0.8495      0.089     -9.538      0.000      -1.024      -0.675\n",
       "C(race)[T.3]    -0.5716      0.136     -4.208      0.000      -0.838      -0.305\n",
       "agepreg         -0.0527      0.009     -6.151      0.000      -0.069      -0.036\n",
       "age2            -0.0006   9.85e-05     -5.706      0.000      -0.001      -0.000\n",
       "totincr         -0.1299      0.012    -11.256      0.000      -0.152      -0.107\n",
       "educat          -0.1781      0.019     -9.282      0.000      -0.216      -0.140\n",
       "--------------------------------------------------------------------------------\n",
       "  rmarital=3       coef    std err          z      P>|z|      [0.025      0.975]\n",
       "--------------------------------------------------------------------------------\n",
       "Intercept       -1.9517      0.726     -2.690      0.007      -3.374      -0.529\n",
       "C(race)[T.2]    -0.3785      0.237     -1.595      0.111      -0.844       0.087\n",
       "C(race)[T.3]     0.0947      0.336      0.282      0.778      -0.563       0.753\n",
       "agepreg         -0.0385      0.018     -2.111      0.035      -0.074      -0.003\n",
       "age2             0.0021      0.000      7.665      0.000       0.002       0.003\n",
       "totincr         -0.3247      0.032    -10.172      0.000      -0.387      -0.262\n",
       "educat          -0.0783      0.049     -1.585      0.113      -0.175       0.018\n",
       "--------------------------------------------------------------------------------\n",
       "  rmarital=4       coef    std err          z      P>|z|      [0.025      0.975]\n",
       "--------------------------------------------------------------------------------\n",
       "Intercept       -0.7939      0.251     -3.166      0.002      -1.285      -0.302\n",
       "C(race)[T.2]    -0.2210      0.094     -2.340      0.019      -0.406      -0.036\n",
       "C(race)[T.3]    -0.6871      0.172     -3.999      0.000      -1.024      -0.350\n",
       "agepreg         -0.0719      0.008     -9.140      0.000      -0.087      -0.056\n",
       "age2             0.0012   9.71e-05     12.418      0.000       0.001       0.001\n",
       "totincr         -0.2240      0.012    -19.215      0.000      -0.247      -0.201\n",
       "educat           0.1131      0.018      6.427      0.000       0.079       0.148\n",
       "--------------------------------------------------------------------------------\n",
       "  rmarital=5       coef    std err          z      P>|z|      [0.025      0.975]\n",
       "--------------------------------------------------------------------------------\n",
       "Intercept        1.7639      0.308      5.724      0.000       1.160       2.368\n",
       "C(race)[T.2]    -0.9680      0.104     -9.272      0.000      -1.173      -0.763\n",
       "C(race)[T.3]    -0.5024      0.157     -3.209      0.001      -0.809      -0.196\n",
       "agepreg         -0.0705      0.010     -7.094      0.000      -0.090      -0.051\n",
       "age2             0.0004      0.000      3.275      0.001       0.000       0.001\n",
       "totincr         -0.2900      0.015    -19.937      0.000      -0.319      -0.261\n",
       "educat           0.0258      0.022      1.163      0.245      -0.018       0.069\n",
       "--------------------------------------------------------------------------------\n",
       "  rmarital=6       coef    std err          z      P>|z|      [0.025      0.975]\n",
       "--------------------------------------------------------------------------------\n",
       "Intercept        5.5262      0.256     21.579      0.000       5.024       6.028\n",
       "C(race)[T.2]    -2.1072      0.080    -26.183      0.000      -2.265      -1.949\n",
       "C(race)[T.3]    -1.9068      0.138    -13.813      0.000      -2.177      -1.636\n",
       "agepreg         -0.0599      0.008     -7.108      0.000      -0.076      -0.043\n",
       "age2            -0.0011   9.85e-05    -11.554      0.000      -0.001      -0.001\n",
       "totincr         -0.2936      0.012    -25.222      0.000      -0.316      -0.271\n",
       "educat          -0.0496      0.018     -2.725      0.006      -0.085      -0.014\n",
       "================================================================================\n",
       "\"\"\""
      ]
     },
     "execution_count": 16,
     "metadata": {},
     "output_type": "execute_result"
    }
   ],
   "source": [
    "formula='rmarital ~ agepreg + age2 + C(race) + totincr + educat'\n",
    "model = smf.mnlogit(formula, data=join)\n",
    "results = model.fit()\n",
    "results.summary() "
   ]
  },
  {
   "cell_type": "code",
   "execution_count": 17,
   "id": "72163a7b",
   "metadata": {},
   "outputs": [
    {
     "data": {
      "text/html": [
       "<div>\n",
       "<style scoped>\n",
       "    .dataframe tbody tr th:only-of-type {\n",
       "        vertical-align: middle;\n",
       "    }\n",
       "\n",
       "    .dataframe tbody tr th {\n",
       "        vertical-align: top;\n",
       "    }\n",
       "\n",
       "    .dataframe thead th {\n",
       "        text-align: right;\n",
       "    }\n",
       "</style>\n",
       "<table border=\"1\" class=\"dataframe\">\n",
       "  <thead>\n",
       "    <tr style=\"text-align: right;\">\n",
       "      <th></th>\n",
       "      <th>0</th>\n",
       "      <th>1</th>\n",
       "      <th>2</th>\n",
       "      <th>3</th>\n",
       "      <th>4</th>\n",
       "      <th>5</th>\n",
       "    </tr>\n",
       "  </thead>\n",
       "  <tbody>\n",
       "    <tr>\n",
       "      <th>0</th>\n",
       "      <td>0.779053</td>\n",
       "      <td>0.108925</td>\n",
       "      <td>0.001152</td>\n",
       "      <td>0.032901</td>\n",
       "      <td>0.02099</td>\n",
       "      <td>0.056979</td>\n",
       "    </tr>\n",
       "  </tbody>\n",
       "</table>\n",
       "</div>"
      ],
      "text/plain": [
       "          0         1         2         3        4         5\n",
       "0  0.779053  0.108925  0.001152  0.032901  0.02099  0.056979"
      ]
     },
     "execution_count": 17,
     "metadata": {},
     "output_type": "execute_result"
    }
   ],
   "source": [
    "# Apply input values\n",
    "columns = ['agepreg', 'age2', 'race', 'totincr', 'educat']\n",
    "# Age = 25, Race = white=2, Income = $45,000=11, Education = high school grad=12\n",
    "new = pd.DataFrame([[25, 25**2, 2, 11, 12]], columns=columns)\n",
    "results.predict(new)"
   ]
  },
  {
   "cell_type": "markdown",
   "id": "0427d272",
   "metadata": {},
   "source": [
    "KEY\n",
    "- 0 CURRENTLY MARRIED\n",
    "- 1 NOT MARRIED BUT LIVING WITH OPP SEX PARTNER\n",
    "- 2 WIDOWED\n",
    "- 3 DIVORCED\n",
    "- 4 SEPARATED FOR REASONS OF MARITAL DISCORD\n",
    "- 5 NEVER BEEN MARRIED"
   ]
  },
  {
   "cell_type": "markdown",
   "id": "5e63d02e",
   "metadata": {},
   "source": [
    "*The value under each category label is the probability of that category on a scale of 0-1. For example, based on this model the probablity that she is married is 77.9%.*"
   ]
  },
  {
   "cell_type": "code",
   "execution_count": null,
   "id": "c57faab6",
   "metadata": {},
   "outputs": [],
   "source": []
  }
 ],
 "metadata": {
  "kernelspec": {
   "display_name": "Python 3 (ipykernel)",
   "language": "python",
   "name": "python3"
  },
  "language_info": {
   "codemirror_mode": {
    "name": "ipython",
    "version": 3
   },
   "file_extension": ".py",
   "mimetype": "text/x-python",
   "name": "python",
   "nbconvert_exporter": "python",
   "pygments_lexer": "ipython3",
   "version": "3.9.12"
  }
 },
 "nbformat": 4,
 "nbformat_minor": 5
}
