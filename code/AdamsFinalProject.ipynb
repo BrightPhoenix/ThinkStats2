{
 "cells": [
  {
   "cell_type": "markdown",
   "id": "2679e73c",
   "metadata": {},
   "source": [
    "Kimberly Adams <br>\n",
    "DSC 530\n",
    "Fall 2022\n",
    "\n",
    "\n",
    "# Final Project"
   ]
  },
  {
   "cell_type": "code",
   "execution_count": 1,
   "id": "b0fac019",
   "metadata": {},
   "outputs": [
    {
     "name": "stdout",
     "output_type": "stream",
     "text": [
      "Downloaded 2000.xlsx\n",
      "Downloaded 2001.xlsx\n",
      "Downloaded 2002.xlsx\n",
      "Downloaded 2003.xlsx\n",
      "Downloaded 2004.xlsx\n",
      "Downloaded 2005.xlsx\n",
      "Downloaded 2006.xlsx\n",
      "Downloaded 2007.xlsx\n",
      "Downloaded 2008.xlsx\n",
      "Downloaded 2009.xlsx\n",
      "Downloaded 2010.xlsx\n",
      "Downloaded 2011.xlsx\n",
      "Downloaded 2012.xlsx\n",
      "Downloaded 2013.xlsx\n",
      "Downloaded 2014.xlsx\n",
      "Downloaded 2015.xlsx\n",
      "Downloaded 2016.xlsx\n",
      "Downloaded 2017.xlsx\n",
      "Downloaded 2018.xlsx\n",
      "Downloaded 2019.xlsx\n",
      "Downloaded 2020.xlsx\n",
      "Downloaded 2021.xlsx\n",
      "Downloaded 2022.xlsx\n"
     ]
    }
   ],
   "source": [
    "from os.path import basename, exists\n",
    "\n",
    "\n",
    "def download(url):\n",
    "    filename = basename(url)\n",
    "    if not exists(filename):\n",
    "        from urllib.request import urlretrieve\n",
    "\n",
    "        local, _ = urlretrieve(url, filename)\n",
    "        print(\"Downloaded \" + local)\n",
    "\n",
    "# Download author's functions\n",
    "download(\"https://github.com/AllenDowney/ThinkStats2/raw/master/code/thinkstats2.py\")\n",
    "download(\"https://github.com/AllenDowney/ThinkStats2/raw/master/code/thinkplot.py\")\n",
    "\n",
    "# Download data\n",
    "download(\"https://github.com/BrightPhoenix/ThinkStats2/blob/master/code/AdamsNestwatchData/2000.xlsx\")\n",
    "download(\"https://github.com/BrightPhoenix/ThinkStats2/blob/master/code/AdamsNestwatchData/2001.xlsx\")\n",
    "download(\"https://github.com/BrightPhoenix/ThinkStats2/blob/master/code/AdamsNestwatchData/2002.xlsx\")\n",
    "download(\"https://github.com/BrightPhoenix/ThinkStats2/blob/master/code/AdamsNestwatchData/2003.xlsx\")\n",
    "download(\"https://github.com/BrightPhoenix/ThinkStats2/blob/master/code/AdamsNestwatchData/2004.xlsx\")\n",
    "download(\"https://github.com/BrightPhoenix/ThinkStats2/blob/master/code/AdamsNestwatchData/2005.xlsx\")\n",
    "download(\"https://github.com/BrightPhoenix/ThinkStats2/blob/master/code/AdamsNestwatchData/2006.xlsx\")\n",
    "download(\"https://github.com/BrightPhoenix/ThinkStats2/blob/master/code/AdamsNestwatchData/2007.xlsx\")\n",
    "download(\"https://github.com/BrightPhoenix/ThinkStats2/blob/master/code/AdamsNestwatchData/2008.xlsx\")\n",
    "download(\"https://github.com/BrightPhoenix/ThinkStats2/blob/master/code/AdamsNestwatchData/2009.xlsx\")\n",
    "download(\"https://github.com/BrightPhoenix/ThinkStats2/blob/master/code/AdamsNestwatchData/2010.xlsx\")\n",
    "download(\"https://github.com/BrightPhoenix/ThinkStats2/blob/master/code/AdamsNestwatchData/2011.xlsx\")\n",
    "download(\"https://github.com/BrightPhoenix/ThinkStats2/blob/master/code/AdamsNestwatchData/2012.xlsx\")\n",
    "download(\"https://github.com/BrightPhoenix/ThinkStats2/blob/master/code/AdamsNestwatchData/2013.xlsx\")\n",
    "download(\"https://github.com/BrightPhoenix/ThinkStats2/blob/master/code/AdamsNestwatchData/2014.xlsx\")\n",
    "download(\"https://github.com/BrightPhoenix/ThinkStats2/blob/master/code/AdamsNestwatchData/2015.xlsx\")\n",
    "download(\"https://github.com/BrightPhoenix/ThinkStats2/blob/master/code/AdamsNestwatchData/2016.xlsx\")\n",
    "download(\"https://github.com/BrightPhoenix/ThinkStats2/blob/master/code/AdamsNestwatchData/2017.xlsx\")\n",
    "download(\"https://github.com/BrightPhoenix/ThinkStats2/blob/master/code/AdamsNestwatchData/2018.xlsx\")\n",
    "download(\"https://github.com/BrightPhoenix/ThinkStats2/blob/master/code/AdamsNestwatchData/2019.xlsx\")\n",
    "download(\"https://github.com/BrightPhoenix/ThinkStats2/blob/master/code/AdamsNestwatchData/2020.xlsx\")\n",
    "download(\"https://github.com/BrightPhoenix/ThinkStats2/blob/master/code/AdamsNestwatchData/2021.xlsx\")\n",
    "download(\"https://github.com/BrightPhoenix/ThinkStats2/blob/master/code/AdamsNestwatchData/2022.xlsx\")\n"
   ]
  },
  {
   "cell_type": "code",
   "execution_count": 2,
   "id": "17575189",
   "metadata": {},
   "outputs": [],
   "source": [
    "# Import packages\n",
    "import pandas as pd"
   ]
  },
  {
   "cell_type": "code",
   "execution_count": 13,
   "id": "f09b4875",
   "metadata": {},
   "outputs": [
    {
     "name": "stderr",
     "output_type": "stream",
     "text": [
      "/Users/kimberlyadams/opt/anaconda3/lib/python3.9/site-packages/openpyxl/styles/stylesheet.py:226: UserWarning: Workbook contains no default style, apply openpyxl's default\n",
      "  warn(\"Workbook contains no default style, apply openpyxl's default\")\n"
     ]
    },
    {
     "data": {
      "text/plain": [
       "<bound method NDFrame.head of    NestWatch Raw Attempt Data Unnamed: 1        Unnamed: 2 Unnamed: 3  \\\n",
       "0                         NaN        NaN               NaN        NaN   \n",
       "1                         NaN        NaN               NaN        NaN   \n",
       "2             Site Identifier   Location           Species    Outcome   \n",
       "3                      L70536      US-FL         Wood Duck         u1   \n",
       "4                      L70537      US-FL         Wood Duck         u1   \n",
       "..                        ...        ...               ...        ...   \n",
       "69                     L56133      US-FL  Eastern Bluebird         s1   \n",
       "70                     L56133      US-FL  Eastern Bluebird         s1   \n",
       "71                     L56134      US-FL  Eastern Bluebird         s1   \n",
       "72                     L56135      US-FL  Eastern Bluebird         s1   \n",
       "73                     L70639      US-FL  Eastern Bluebird          f   \n",
       "\n",
       "             Unnamed: 4           Unnamed: 5           Unnamed: 6  \\\n",
       "0                   NaN                  NaN                  NaN   \n",
       "1                   NaN                  NaN                  NaN   \n",
       "2        First Lay Date           Hatch Date          Fledge Date   \n",
       "3                   NaN                  NaN                  NaN   \n",
       "4                   NaN                  NaN                  NaN   \n",
       "..                  ...                  ...                  ...   \n",
       "69  2000-07-04 00:00:00  2000-07-20 00:00:00  2000-08-06 00:00:00   \n",
       "70  2000-04-23 00:00:00  2000-05-11 00:00:00  2000-06-03 00:00:00   \n",
       "71  2000-04-07 00:00:00                  NaN  2000-05-19 00:00:00   \n",
       "72  2000-06-08 00:00:00  2000-07-08 00:00:00  2000-07-21 00:00:00   \n",
       "73  2000-05-07 00:00:00                  NaN                  NaN   \n",
       "\n",
       "     Unnamed: 7      Unnamed: 8  Unnamed: 9 Unnamed: 10    Unnamed: 11  \n",
       "0           NaN             NaN         NaN         NaN            NaN  \n",
       "1           NaN             NaN         NaN         NaN            NaN  \n",
       "2   Clutch Size  Unhatched Eggs  Total Live  Total Dead  Total Fledged  \n",
       "3          13.0             NaN         0.0         NaN            0.0  \n",
       "4          10.0             NaN         0.0         NaN            0.0  \n",
       "..          ...             ...         ...         ...            ...  \n",
       "69          5.0             0.0         5.0         NaN            5.0  \n",
       "70          5.0             0.0         5.0         NaN            5.0  \n",
       "71          5.0             3.0         2.0         NaN            2.0  \n",
       "72          4.0             0.0         4.0         NaN            4.0  \n",
       "73          2.0             NaN         0.0         NaN            0.0  \n",
       "\n",
       "[74 rows x 12 columns]>"
      ]
     },
     "execution_count": 13,
     "metadata": {},
     "output_type": "execute_result"
    }
   ],
   "source": [
    "df2000attempt =pd.read_excel(r'/Users/kimberlyadams/Documents/GitHub/ThinkStats2/code/AdamsNestwatchData/2000.xlsx', sheet_name='NestWatch Raw Attempt Data')\n",
    "df2000attempt.head"
   ]
  },
  {
   "cell_type": "code",
   "execution_count": null,
   "id": "9d56f5cb",
   "metadata": {},
   "outputs": [],
   "source": []
  }
 ],
 "metadata": {
  "kernelspec": {
   "display_name": "Python 3 (ipykernel)",
   "language": "python",
   "name": "python3"
  },
  "language_info": {
   "codemirror_mode": {
    "name": "ipython",
    "version": 3
   },
   "file_extension": ".py",
   "mimetype": "text/x-python",
   "name": "python",
   "nbconvert_exporter": "python",
   "pygments_lexer": "ipython3",
   "version": "3.9.12"
  }
 },
 "nbformat": 4,
 "nbformat_minor": 5
}
