{
 "cells": [
  {
   "cell_type": "markdown",
   "id": "2679e73c",
   "metadata": {},
   "source": [
    "Kimberly Adams <br>\n",
    "DSC 530\n",
    "September 2022"
   ]
  },
  {
   "cell_type": "markdown",
   "id": "96c6f4e3",
   "metadata": {},
   "source": [
    "Download data files from github"
   ]
  },
  {
   "cell_type": "code",
   "execution_count": 199,
   "id": "57fc84f0",
   "metadata": {},
   "outputs": [],
   "source": [
    "from os.path import basename, exists\n",
    "\n",
    "\n",
    "def download(url):\n",
    "    filename = basename(url)\n",
    "    if not exists(filename):\n",
    "        from urllib.request import urlretrieve\n",
    "\n",
    "        local, _ = urlretrieve(url, filename)\n",
    "        print(\"Downloaded \" + local)\n",
    "\n",
    "# Download author's functions.\n",
    "download(\"https://github.com/AllenDowney/ThinkStats2/raw/master/code/thinkstats2.py\")\n",
    "download(\"https://github.com/AllenDowney/ThinkStats2/raw/master/code/thinkplot.py\")"
   ]
  },
  {
   "cell_type": "code",
   "execution_count": 200,
   "id": "c0cc8225",
   "metadata": {},
   "outputs": [],
   "source": [
    "# Import numpy package\n",
    "import numpy as np\n",
    "\n",
    "# Import author's functions\n",
    "import thinkstats2\n",
    "import thinkplot"
   ]
  },
  {
   "cell_type": "markdown",
   "id": "8c8c5d06",
   "metadata": {},
   "source": [
    "# Chapter 5\n",
    "### Excercise 5-1"
   ]
  },
  {
   "cell_type": "markdown",
   "id": "aac7dbf2",
   "metadata": {},
   "source": [
    "In order to join Blue Man Group, you have to be male and between 5′10″ (70 in) and 6′1″ (73 in) tall. What percentage of the US male population is in this range?\n",
    "\n",
    "µ = 178 cm (70 in)\n",
    "\n",
    "σ = 7.7 cm (3.03 in)"
   ]
  },
  {
   "cell_type": "code",
   "execution_count": 201,
   "id": "dc2683ee",
   "metadata": {
    "scrolled": true
   },
   "outputs": [
    {
     "data": {
      "text/plain": [
       "34.1344746068543"
      ]
     },
     "execution_count": 201,
     "metadata": {},
     "output_type": "execute_result"
    }
   ],
   "source": [
    "import scipy.stats\n",
    "\n",
    "# Model a normal distribution with a mean of 70 inches and a standard deviation of 3.03 inches.\n",
    "mu = 70\n",
    "sigma = 3.03\n",
    "NormDist = scipy.stats.norm(loc=mu, scale=sigma)\n",
    "\n",
    "# Determine percentage of population that falls at the mean (5'10\") and the percentage at 6'1\".\n",
    "small = NormDist.cdf(mu) * 100\n",
    "tall = NormDist.cdf(mu + sigma) * 100\n",
    "\n",
    "# To find the percentage in the range, subtract the low end of the range from the high end.\n",
    "tall - small"
   ]
  },
  {
   "cell_type": "markdown",
   "id": "c6c1990c",
   "metadata": {},
   "source": [
    "*Roughly 34% of the US male population falls into the 5'10\" to 6'1\" tall height requirement of the Blue Man Group.*"
   ]
  },
  {
   "cell_type": "markdown",
   "id": "618c9114",
   "metadata": {},
   "source": [
    "### Excercise 5-2"
   ]
  },
  {
   "cell_type": "markdown",
   "id": "3a193333",
   "metadata": {},
   "source": [
    "To get a feel for the Pareto distribution, let’s see how different the world would be if the distribution of human height were Pareto. "
   ]
  },
  {
   "cell_type": "markdown",
   "id": "9b92bcc6",
   "metadata": {},
   "source": [
    "With the parameters  xm = 1 m and α = 1.7, we get a distribution with a reasonable minimum, 1 m, and median, 1.5 m. Plot this distribution. "
   ]
  },
  {
   "cell_type": "code",
   "execution_count": 202,
   "id": "be4e6fda",
   "metadata": {},
   "outputs": [],
   "source": [
    "# Create Pareto distribution using 1 as the minimum value of x and an alpha value of 1.7.\n",
    "xmin = 1\n",
    "alpha = 1.7\n",
    "ParetoDist = scipy.stats.pareto(b=alpha, scale=xmin)"
   ]
  },
  {
   "cell_type": "code",
   "execution_count": 203,
   "id": "b44fbf79",
   "metadata": {},
   "outputs": [
    {
     "data": {
      "image/png": "[encoded data removed]",
      "text/plain": [
       "<Figure size 432x288 with 1 Axes>"
      ]
     },
     "metadata": {
      "needs_background": "light"
     },
     "output_type": "display_data"
    }
   ],
   "source": [
    "# Plot Pareto distribution with xmin = 1 and alpha = 1.7\n",
    "height, prop = thinkstats2.RenderParetoCdf(1, 1.7, 0, 10.0, n=100)\n",
    "thinkplot.Plot(height, prop)\n",
    "thinkplot.Config(xlabel=\"Height (m)\", ylabel=\"CDF\")"
   ]
  },
  {
   "cell_type": "markdown",
   "id": "2792dbff",
   "metadata": {},
   "source": [
    "What is the mean human height in Pareto world? "
   ]
  },
  {
   "cell_type": "code",
   "execution_count": 204,
   "id": "5189b8d6",
   "metadata": {},
   "outputs": [
    {
     "data": {
      "text/plain": [
       "2.428571428571429"
      ]
     },
     "execution_count": 204,
     "metadata": {},
     "output_type": "execute_result"
    }
   ],
   "source": [
    "ParetoDist.mean()"
   ]
  },
  {
   "cell_type": "markdown",
   "id": "a6d1d5ba",
   "metadata": {},
   "source": [
    "*The mean hieght in the Pareto world is 2.43 meters (95.7 inches).*"
   ]
  },
  {
   "cell_type": "markdown",
   "id": "61751a28",
   "metadata": {},
   "source": [
    "What fraction of the population is shorter than the mean?"
   ]
  },
  {
   "cell_type": "code",
   "execution_count": 205,
   "id": "30546332",
   "metadata": {
    "scrolled": true
   },
   "outputs": [
    {
     "data": {
      "text/plain": [
       "77.89607822883976"
      ]
     },
     "execution_count": 205,
     "metadata": {},
     "output_type": "execute_result"
    }
   ],
   "source": [
    "# Find proportion of people that are up to 2.43 m tall in this population and multiply by 100 to get precentage.\n",
    "ParetoDist.cdf(2.43) * 100"
   ]
  },
  {
   "cell_type": "markdown",
   "id": "65887646",
   "metadata": {},
   "source": [
    "*Roughly 78% of the population is shorter than the mean height in this distribution.*"
   ]
  },
  {
   "cell_type": "markdown",
   "id": "b836d0a6",
   "metadata": {},
   "source": [
    "If there are 7 billion people in Pareto world, how many do we expect to be taller than 1 km?"
   ]
  },
  {
   "cell_type": "code",
   "execution_count": 206,
   "id": "31b3d093",
   "metadata": {},
   "outputs": [
    {
     "data": {
      "text/plain": [
       "55602.976430479954"
      ]
     },
     "execution_count": 206,
     "metadata": {},
     "output_type": "execute_result"
    }
   ],
   "source": [
    "# Subtract proportion at 1000 m height from 1 to find proportion taller.\n",
    "# Multiply proportion by population of 7 billion to find number of people taller than 1000 m,\n",
    "(1-ParetoDist.cdf(1000)) * 7000000000"
   ]
  },
  {
   "cell_type": "markdown",
   "id": "b0193068",
   "metadata": {},
   "source": [
    "*In this population, we would predict that 55,602 people are taller than 1000m.  Those are some really tall people!*"
   ]
  },
  {
   "cell_type": "markdown",
   "id": "bace7cf1",
   "metadata": {},
   "source": [
    "How tall do we expect the tallest person to be?"
   ]
  },
  {
   "cell_type": "markdown",
   "id": "a3c658ee",
   "metadata": {},
   "source": [
    "*We are looking for the height that give the lowest resulting value equaling but not less than 1 as this person would be essentially the last person added into the cumulative function.  I am going to use the guess and check method with only some of my guesses shown below.*"
   ]
  },
  {
   "cell_type": "code",
   "execution_count": 207,
   "id": "89724c7f",
   "metadata": {},
   "outputs": [
    {
     "data": {
      "text/plain": [
       "59.861032797314806"
      ]
     },
     "execution_count": 207,
     "metadata": {},
     "output_type": "execute_result"
    }
   ],
   "source": [
    "guess = 55700\n",
    "(1-ParetoDist.cdf(guess)) * 7000000000"
   ]
  },
  {
   "cell_type": "code",
   "execution_count": 208,
   "id": "95073b2a",
   "metadata": {},
   "outputs": [
    {
     "data": {
      "text/plain": [
       "16.2364069966614"
      ]
     },
     "execution_count": 208,
     "metadata": {},
     "output_type": "execute_result"
    }
   ],
   "source": [
    "guess = 120000\n",
    "(1-ParetoDist.cdf(guess)) * 7000000000"
   ]
  },
  {
   "cell_type": "code",
   "execution_count": 209,
   "id": "1543433a",
   "metadata": {},
   "outputs": [
    {
     "data": {
      "text/plain": [
       "1.538111638055284"
      ]
     },
     "execution_count": 209,
     "metadata": {},
     "output_type": "execute_result"
    }
   ],
   "source": [
    "guess = 480000\n",
    "(1-ParetoDist.cdf(guess)) * 7000000000"
   ]
  },
  {
   "cell_type": "code",
   "execution_count": 210,
   "id": "7d985abd",
   "metadata": {},
   "outputs": [
    {
     "data": {
      "text/plain": [
       "1.2203418275902322"
      ]
     },
     "execution_count": 210,
     "metadata": {},
     "output_type": "execute_result"
    }
   ],
   "source": [
    "guess = 550000\n",
    "(1-ParetoDist.cdf(guess)) * 7000000000"
   ]
  },
  {
   "cell_type": "code",
   "execution_count": 211,
   "id": "a68072c9",
   "metadata": {},
   "outputs": [
    {
     "data": {
      "text/plain": [
       "0.9186397198490681"
      ]
     },
     "execution_count": 211,
     "metadata": {},
     "output_type": "execute_result"
    }
   ],
   "source": [
    "guess = 650000\n",
    "(1-ParetoDist.cdf(guess)) * 7000000000"
   ]
  },
  {
   "cell_type": "code",
   "execution_count": 212,
   "id": "49095f3e",
   "metadata": {},
   "outputs": [
    {
     "data": {
      "text/plain": [
       "1.0525452731613427"
      ]
     },
     "execution_count": 212,
     "metadata": {},
     "output_type": "execute_result"
    }
   ],
   "source": [
    "guess = 600000\n",
    "(1-ParetoDist.cdf(guess)) * 7000000000"
   ]
  },
  {
   "cell_type": "code",
   "execution_count": 213,
   "id": "19aaf3d3",
   "metadata": {},
   "outputs": [
    {
     "data": {
      "text/plain": [
       "1.0092771063341388"
      ]
     },
     "execution_count": 213,
     "metadata": {},
     "output_type": "execute_result"
    }
   ],
   "source": [
    "guess = 615000\n",
    "(1-ParetoDist.cdf(guess)) * 7000000000"
   ]
  },
  {
   "cell_type": "markdown",
   "id": "754f7e95",
   "metadata": {},
   "source": [
    "*I am going to stop here before I go crazy with roundoff error.  I am going to say that the tallest person is somewhere around 615000 meters (615 km) tall.*"
   ]
  },
  {
   "cell_type": "markdown",
   "id": "775ba982",
   "metadata": {},
   "source": [
    "# Chapter 6"
   ]
  },
  {
   "cell_type": "markdown",
   "id": "5788b73b",
   "metadata": {},
   "source": [
    "### Excercise 6-1"
   ]
  },
  {
   "cell_type": "code",
   "execution_count": 214,
   "id": "b29f7eeb",
   "metadata": {},
   "outputs": [],
   "source": [
    "# Download author's function set and dataset\n",
    "download(\"https://github.com/AllenDowney/ThinkStats2/raw/master/code/hinc.py\")\n",
    "download(\"https://github.com/AllenDowney/ThinkStats2/raw/master/code/hinc06.csv\")\n",
    "\n",
    "# Import data into data frame\n",
    "import hinc\n",
    "income_df = hinc.ReadData()"
   ]
  },
  {
   "cell_type": "code",
   "execution_count": 215,
   "id": "6a70a353",
   "metadata": {},
   "outputs": [],
   "source": [
    "# Brings in author's function to clean and interpret the dataset within the data frame\n",
    "def InterpolateSample(df, log_upper=6.0):\n",
    "    \"\"\"Makes a sample of log10 household income.\n",
    "\n",
    "    Assumes that log10 income is uniform in each range.\n",
    "\n",
    "    df: DataFrame with columns income and freq\n",
    "    log_upper: log10 of the assumed upper bound for the highest range\n",
    "\n",
    "    returns: NumPy array of log10 household income\n",
    "    \"\"\"\n",
    "    # Apply a log10 transformation on the income column\n",
    "    df['log_upper'] = np.log10(df.income)\n",
    "\n",
    "    # Find the bottom of income range\n",
    "    df['log_lower'] = df.log_upper.shift(1)\n",
    "    df.loc[0, 'log_lower'] = 3.0\n",
    "\n",
    "    # Add unknown upper range unknowns\n",
    "    df.loc[41, 'log_upper'] = log_upper\n",
    "    \n",
    "    # Count frequency within each income range\n",
    "    arrays = []\n",
    "    for _, row in df.iterrows():\n",
    "        vals = np.linspace(row.log_lower, row.log_upper, int(row.freq))\n",
    "        arrays.append(vals)\n",
    "\n",
    "    # Bring together all the separate income range counts into a single object\n",
    "    log_sample = np.concatenate(arrays)\n",
    "    return log_sample"
   ]
  },
  {
   "cell_type": "code",
   "execution_count": 216,
   "id": "46b8b5ba",
   "metadata": {},
   "outputs": [
    {
     "data": {
      "image/png": "[encoded data removed]",
      "text/plain": [
       "<Figure size 432x288 with 1 Axes>"
      ]
     },
     "metadata": {
      "needs_background": "light"
     },
     "output_type": "display_data"
    }
   ],
   "source": [
    "# Runs the author's InterpolateSample function to help clean the data \n",
    "# Creates a new sample with each income range proportionally represented\n",
    "# Sets upper limit as 1 million dollars\n",
    "log_sample = InterpolateSample(income_df, log_upper=6.0)\n",
    "\n",
    "# Computes CDF of sample and then visualizes it in a plot\n",
    "log_cdf = thinkstats2.Cdf(log_sample)\n",
    "thinkplot.Cdf(log_cdf)\n",
    "thinkplot.Config(xlabel='Household income (log $)',\n",
    "               ylabel='CDF')"
   ]
  },
  {
   "cell_type": "code",
   "execution_count": 217,
   "id": "4b5c5859",
   "metadata": {},
   "outputs": [
    {
     "data": {
      "image/png": "[encoded data removed]",
      "text/plain": [
       "<Figure size 432x288 with 1 Axes>"
      ]
     },
     "metadata": {
      "needs_background": "light"
     },
     "output_type": "display_data"
    }
   ],
   "source": [
    "sample = np.power(10, log_sample) \n",
    "\n",
    "cdf = thinkstats2.Cdf(sample)\n",
    "thinkplot.Cdf(cdf)\n",
    "thinkplot.Config(xlabel='Household income ($)',\n",
    "               ylabel='CDF')"
   ]
  },
  {
   "cell_type": "code",
   "execution_count": 218,
   "id": "63400c62",
   "metadata": {},
   "outputs": [],
   "source": [
    "# Add in more author functions for calculating various statistics in moments\n",
    "\n",
    "# Calculate moments as the sums of powers\n",
    "def RawMoment(xs, k):\n",
    "    return sum(x**k for x in xs) / len(xs)\n",
    "\n",
    "# Mean\n",
    "def Mean(xs):\n",
    "    return RawMoment(xs, 1)\n",
    "\n",
    "# Central moments as the powers of distances from the mean\n",
    "def CentralMoment(xs, k):\n",
    "    mean = RawMoment(xs, 1)\n",
    "    return sum((x - mean)**k for x in xs) / len(xs)\n",
    "\n",
    "# Variance (2nd moment)\n",
    "def Var(xs):\n",
    "    return CentralMoment(xs, 2)\n",
    "\n",
    "# Standardized moments - ratios of central moments where dimensions cancel each other\n",
    "def StandardizedMoment(xs, k):\n",
    "    var = CentralMoment(xs, 2)\n",
    "    std = np.sqrt(var)\n",
    "    return CentralMoment(xs, k) / std**k\n",
    "\n",
    "# Skewness (3rd moment)\n",
    "def Skewness(xs):\n",
    "    return StandardizedMoment(xs, 3)\n",
    "\n",
    "# Median\n",
    "def Median(xs):\n",
    "    cdf = thinkstats2.Cdf(xs)\n",
    "    return cdf.Value(0.5)\n",
    "\n",
    "# Pearson's median skewness\n",
    "def PearsonMedianSkewness(xs):\n",
    "    median = Median(xs)\n",
    "    mean = RawMoment(xs, 1)\n",
    "    var = CentralMoment(xs, 2)\n",
    "    std = np.sqrt(var)\n",
    "    gp = 3 * (mean - median) / std\n",
    "    return gp"
   ]
  },
  {
   "cell_type": "markdown",
   "id": "8fe377fa",
   "metadata": {},
   "source": [
    "Compute the median, mean, skewness and Pearson’s skewness of the resulting sample."
   ]
  },
  {
   "cell_type": "code",
   "execution_count": 219,
   "id": "bd81a85e",
   "metadata": {},
   "outputs": [
    {
     "name": "stdout",
     "output_type": "stream",
     "text": [
      "Median = 51226.45447894046\n",
      "Mean = 74278.70753118733\n",
      "Skewness = 4.949920244429583\n",
      "Pearson's = 0.7361258019141782\n"
     ]
    }
   ],
   "source": [
    "print(\"Median =\", Median(sample))\n",
    "print(\"Mean =\", Mean(sample))\n",
    "print(\"Skewness =\", Skewness(sample))\n",
    "print(\"Pearson's =\", PearsonMedianSkewness(sample))"
   ]
  },
  {
   "cell_type": "markdown",
   "id": "4610dd7d",
   "metadata": {},
   "source": [
    "*The results indicate that the mean is higher than the median which suggests a positive skew to the data which we see in the 4.9 skew value.  This confirms that the data is skewed to the right and would have a positive tail. The Pearson's skewness value of 0.73 is quite high and also backs up the positive skew result.*"
   ]
  },
  {
   "cell_type": "markdown",
   "id": "93e57178",
   "metadata": {},
   "source": [
    "What fraction of households reports a taxable income below the mean?"
   ]
  },
  {
   "cell_type": "code",
   "execution_count": 220,
   "id": "472ca84e",
   "metadata": {},
   "outputs": [
    {
     "data": {
      "text/plain": [
       "66.0005879566872"
      ]
     },
     "execution_count": 220,
     "metadata": {},
     "output_type": "execute_result"
    }
   ],
   "source": [
    "cdf.Prob(Mean(sample)) * 100"
   ]
  },
  {
   "cell_type": "markdown",
   "id": "59137ff5",
   "metadata": {},
   "source": [
    "*About 66% of the sample population has a reported income below the mean.*"
   ]
  },
  {
   "cell_type": "markdown",
   "id": "717fac36",
   "metadata": {},
   "source": [
    "All of this is based on an assumption that the highest income is one million dollars, but that's certainly not correct.  What happens to the skew if the upper bound is 10 million?"
   ]
  },
  {
   "cell_type": "code",
   "execution_count": 221,
   "id": "2780784f",
   "metadata": {},
   "outputs": [
    {
     "name": "stdout",
     "output_type": "stream",
     "text": [
      "Median = 51226.45447894046\n",
      "Mean = 124267.39722164685\n",
      "Skewness = 11.603690267537793\n",
      "Pearson's = 0.39156450927742087\n",
      "Percentage below mean = 85.65630665207664\n"
     ]
    }
   ],
   "source": [
    "# Runs the author's InterpolateSample function to help clean the data \n",
    "# Creates a new sample with each income range proportionally represented\n",
    "\n",
    "# Sets upper limit as 10 million dollars\n",
    "log_sample2 = InterpolateSample(income_df, log_upper=7.0)\n",
    "\n",
    "sample2 = np.power(10, log_sample2)\n",
    "\n",
    "print(\"Median =\", Median(sample2))\n",
    "print(\"Mean =\", Mean(sample2))\n",
    "print(\"Skewness =\", Skewness(sample2))\n",
    "print(\"Pearson's =\", PearsonMedianSkewness(sample2))\n",
    "\n",
    "print(\"Percentage below mean =\",cdf.Prob(Mean(sample2)) * 100)"
   ]
  },
  {
   "cell_type": "markdown",
   "id": "f2a816aa",
   "metadata": {},
   "source": [
    "*Changing the upper limit from 1 to 10 million kept the median the same, but the distance between it and the mean is roughly twice as big.  The skew is also twice as big. Pearson's is half as large however suggesting that the outliers are impacting the skew value and since Pearson's is less sensitive to those effects, the value actually decreases.*\n",
    "\n",
    "*The percentage of households below the mean also jumps from 66% to 86% below the new mean.*\n",
    "\n",
    "*Without knowing the true upper value of the dataset, our calcuated values can vary widely based on our estimated top range value.*"
   ]
  }
 ],
 "metadata": {
  "kernelspec": {
   "display_name": "Python 3 (ipykernel)",
   "language": "python",
   "name": "python3"
  },
  "language_info": {
   "codemirror_mode": {
    "name": "ipython",
    "version": 3
   },
   "file_extension": ".py",
   "mimetype": "text/x-python",
   "name": "python",
   "nbconvert_exporter": "python",
   "pygments_lexer": "ipython3",
   "version": "3.9.12"
  }
 },
 "nbformat": 4,
 "nbformat_minor": 5
}
