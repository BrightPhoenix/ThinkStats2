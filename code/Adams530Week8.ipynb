{
 "cells": [
  {
   "cell_type": "markdown",
   "id": "b10b77f1",
   "metadata": {},
   "source": [
    "Kimberly Adams \n",
    "DSC 530 September 2022"
   ]
  },
  {
   "cell_type": "markdown",
   "id": "96c6f4e3",
   "metadata": {},
   "source": [
    "Download data files from github"
   ]
  },
  {
   "cell_type": "code",
   "execution_count": 1,
   "id": "57fc84f0",
   "metadata": {},
   "outputs": [],
   "source": [
    "from os.path import basename, exists\n",
    "\n",
    "\n",
    "def download(url):\n",
    "    filename = basename(url)\n",
    "    if not exists(filename):\n",
    "        from urllib.request import urlretrieve\n",
    "\n",
    "        local, _ = urlretrieve(url, filename)\n",
    "        print(\"Downloaded \" + local)\n",
    "\n",
    "# Download author's functions.\n",
    "download(\"https://github.com/AllenDowney/ThinkStats2/raw/master/code/thinkstats2.py\")\n",
    "download(\"https://github.com/AllenDowney/ThinkStats2/raw/master/code/thinkplot.py\")"
   ]
  },
  {
   "cell_type": "code",
   "execution_count": 2,
   "id": "c0cc8225",
   "metadata": {},
   "outputs": [],
   "source": [
    "# Import numpy, pandas, and random packages\n",
    "import numpy as np\n",
    "import pandas as pd\n",
    "import random\n",
    "\n",
    "# Import author's functions\n",
    "import thinkstats2\n",
    "import thinkplot"
   ]
  },
  {
   "cell_type": "code",
   "execution_count": 29,
   "id": "a90778aa",
   "metadata": {},
   "outputs": [],
   "source": [
    "# Import author's functions\n",
    "\n",
    "class HypothesisTest(object):\n",
    "\n",
    "    def __init__(self, data):\n",
    "        self.data = data\n",
    "        self.MakeModel()\n",
    "        self.actual = self.TestStatistic(data)\n",
    "\n",
    "    def PValue(self, iters=1000):\n",
    "        self.test_stats = [self.TestStatistic(self.RunModel()) \n",
    "                           for _ in range(iters)]\n",
    "\n",
    "        count = sum(1 for x in self.test_stats if x >= self.actual)\n",
    "        return count / iters\n",
    "\n",
    "    def TestStatistic(self, data):\n",
    "        raise UnimplementedMethodException()\n",
    "\n",
    "    def MakeModel(self):\n",
    "        pass\n",
    "\n",
    "    def RunModel(self):\n",
    "        raise UnimplementedMethodException()\n",
    "    \n",
    "\n",
    "class DiffMeansPermute(thinkstats2.HypothesisTest):\n",
    "    # Shuffle the data to check for just a difference in mean between groups.\n",
    "    def TestStatistic(self, data):\n",
    "        group1, group2 = data\n",
    "        test_stat = abs(group1.mean() - group2.mean())\n",
    "        return test_stat\n",
    "\n",
    "    def MakeModel(self):\n",
    "        group1, group2 = self.data\n",
    "        self.n, self.m = len(group1), len(group2)\n",
    "        self.pool = np.hstack((group1, group2))\n",
    "\n",
    "    def RunModel(self):\n",
    "        np.random.shuffle(self.pool)\n",
    "        data = self.pool[:self.n], self.pool[self.n:]\n",
    "        return data\n",
    "    \n",
    "    \n",
    "class DiffMeansOneSided(DiffMeansPermute):\n",
    "    # One-sided checked for a specific [smaller or larger] difference in mean.\n",
    "    def TestStatistic(self, data):\n",
    "        group1, group2 = data\n",
    "        test_stat = group1.mean() - group2.mean()\n",
    "        return test_stat\n",
    "    \n",
    "    \n",
    "class DiffStdPermute(DiffMeansPermute):\n",
    "    # Calculate differences in group standard deviations.\n",
    "    def TestStatistic(self, data):\n",
    "        group1, group2 = data\n",
    "        test_stat = group1.std() - group2.std()\n",
    "        return test_stat\n",
    "    \n",
    "\n",
    "class CorrelationPermute(thinkstats2.HypothesisTest):\n",
    "    # Test if correlation is significant between two variables\n",
    "    def TestStatistic(self, data):\n",
    "        xs, ys = data\n",
    "        test_stat = abs(thinkstats2.Corr(xs, ys))\n",
    "        return test_stat\n",
    "\n",
    "    def RunModel(self):\n",
    "        xs, ys = self.data\n",
    "        xs = np.random.permutation(xs)\n",
    "        return xs, ys\n",
    "    \n",
    "    \n",
    "class PregLengthTest(thinkstats2.HypothesisTest):\n",
    "    # Chi-square test of pregnancy length    \n",
    "    def MakeModel(self):\n",
    "        firsts, others = self.data\n",
    "        self.n = len(firsts)\n",
    "        self.pool = np.hstack((firsts, others))\n",
    "\n",
    "        pmf = thinkstats2.Pmf(self.pool)\n",
    "        self.values = range(35, 44)\n",
    "        self.expected_probs = np.array(pmf.Probs(self.values))\n",
    "\n",
    "    def RunModel(self):\n",
    "        np.random.shuffle(self.pool)\n",
    "        data = self.pool[:self.n], self.pool[self.n:]\n",
    "        return data\n",
    "    \n",
    "    def TestStatistic(self, data):\n",
    "        firsts, others = data\n",
    "        stat = self.ChiSquared(firsts) + self.ChiSquared(others)\n",
    "        return stat\n",
    "\n",
    "    def ChiSquared(self, lengths):\n",
    "        hist = thinkstats2.Hist(lengths)\n",
    "        observed = np.array(hist.Freqs(self.values))\n",
    "        expected = self.expected_probs * len(lengths)\n",
    "        stat = sum((observed - expected)**2 / expected)\n",
    "        return stat"
   ]
  },
  {
   "cell_type": "markdown",
   "id": "8c8c5d06",
   "metadata": {},
   "source": [
    "# Chapter 9\n",
    "### Excercise 9-1"
   ]
  },
  {
   "cell_type": "markdown",
   "id": "96550721",
   "metadata": {},
   "source": [
    "As sample size increases, the power of a hypothesis test increases, which means it is more likely to be positive if the effect is real. Conversely, as sample size decreases, the test is less likely to be positive even if the effect is real. \n",
    "\n",
    "To investigate this behavior, run the tests in this chapter with different subsets of the NSFG data. You can use thinkstats2.SampleRows to select a random subset of the rows in a DataFrame."
   ]
  },
  {
   "cell_type": "code",
   "execution_count": 4,
   "id": "e167bebe",
   "metadata": {},
   "outputs": [],
   "source": [
    "# Download NSFG data\n",
    "download(\"https://github.com/AllenDowney/ThinkStats2/raw/master/code/nsfg.py\")\n",
    "download(\"https://github.com/AllenDowney/ThinkStats2/raw/master/code/first.py\")\n",
    "download(\"https://github.com/AllenDowney/ThinkStats2/raw/master/code/2002FemPreg.dct\")\n",
    "download(\n",
    "    \"https://github.com/AllenDowney/ThinkStats2/raw/master/code/2002FemPreg.dat.gz\")\n",
    "\n",
    "# Import data\n",
    "import first"
   ]
  },
  {
   "cell_type": "markdown",
   "id": "a27a986e",
   "metadata": {},
   "source": [
    "What happens to the p-values of these tests as the sample size decreases?"
   ]
  },
  {
   "cell_type": "code",
   "execution_count": 50,
   "id": "e6572ff6",
   "metadata": {},
   "outputs": [],
   "source": [
    "def Tests(live, iters=1000):\n",
    "    NumSamples = len(live)\n",
    "    firsts = live[live.birthord == 1]\n",
    "    others = live[live.birthord != 1]\n",
    "\n",
    "    # Permutation test: Compare pregnancy lengths for first and later children\n",
    "    lendata = firsts.prglngth.values, others.prglngth.values\n",
    "    HypoTest1 = DiffMeansPermute(lendata)\n",
    "    P_value1 = HypoTest1.PValue(iters=iters)\n",
    "    \n",
    "    # Correlation: Pregnancy length and birth weight\n",
    "    cleaned = live.dropna(subset=['prglngth', 'totalwgt_lb'])\n",
    "    corrdata = cleaned.prglngth.values, cleaned.totalwgt_lb.values\n",
    "    HypoTest2 = CorrelationPermute(corrdata)\n",
    "    P_value2 = HypoTest2.PValue(iters=iters)\n",
    "\n",
    "    # Correlation: Pregnancy age and birth weight\n",
    "    cleaned2 = live.dropna(subset=['agepreg', 'totalwgt_lb'])\n",
    "    corrdata2 = cleaned2.agepreg.values, cleaned2.totalwgt_lb.values\n",
    "    HypoTest3 = CorrelationPermute(corrdata2)\n",
    "    P_value3 = HypoTest3.PValue(iters=iters)\n",
    "\n",
    "    # Chi-square: Pregnancy length\n",
    "    HypoTest4 = PregLengthTest(lendata)\n",
    "    P_value4 = HypoTest4.PValue(iters=iters)\n",
    "\n",
    "    print('%d\\t%0.2f\\t%0.2f\\t%0.2f\\t%0.2f' % (NumSamples, P_value1, P_value2, P_value3, P_value4))\n",
    "    # print(\"Samples=\", NumSamples, \"Perm p=\", P_value1, \"Corr p=\", P_value2, \"Chi p=\", P_value3)"
   ]
  },
  {
   "cell_type": "code",
   "execution_count": 55,
   "id": "f361b2d9",
   "metadata": {},
   "outputs": [
    {
     "name": "stdout",
     "output_type": "stream",
     "text": [
      "9148\t0.15\t0.00\t0.00\t0.00\n",
      "4574\t0.22\t0.00\t0.00\t0.00\n",
      "2287\t0.13\t0.00\t0.00\t0.00\n",
      "1143\t0.33\t0.00\t0.00\t0.07\n",
      "571\t0.55\t0.00\t0.93\t0.07\n",
      "285\t0.44\t0.00\t0.27\t0.05\n",
      "142\t0.22\t0.00\t0.13\t0.67\n",
      "71\t0.14\t0.56\t0.38\t0.41\n"
     ]
    }
   ],
   "source": [
    "n = len(live)\n",
    "for _ in range(8):\n",
    "    sample = thinkstats2.SampleRows(live, n)\n",
    "    Tests(sample)\n",
    "    n //= 2"
   ]
  },
  {
   "cell_type": "markdown",
   "id": "1727e12b",
   "metadata": {},
   "source": [
    "*Means difference: Looking at pregnancy length, as the sample size decreases, the p-value shows some increases but is very all over the place due to the randomness of the sample (2nd column).*\n",
    "\n",
    "*Correlation (pregnancy length and birth weight): The  p-value remained at 0 the entire time until the very smallest sample (3rd column).* \n",
    "\n",
    "*Correlation (pregnancy age and birth weight): The p-value increased overall with decreasing sample size with a huge spike at n=571 (4th column).*\n",
    "\n",
    "*Chi-square (pregnancy length): The p-value also increases with decreasing sample size (5th column).*"
   ]
  },
  {
   "cell_type": "markdown",
   "id": "bc966336",
   "metadata": {},
   "source": [
    "What is the smallest sample size that yields a positive test?"
   ]
  },
  {
   "cell_type": "markdown",
   "id": "f7fdeab9",
   "metadata": {},
   "source": [
    "*Means difference: no sample sizes yielded a significant result*\n",
    "\n",
    "*Correlation (pregnancy length and birth weight): All sample sizes yielded a significant result except n=71 (3rd column).* \n",
    "\n",
    "*Correlation (pregnancy age and birth weight): Sample sizes as low as n=1143 consistently yielded a significant p-value. (4th column).*\n",
    "\n",
    "*Chi-square (pregnancy length): Lowest sample size with significant p-value is n=2287 (5th column).*\n",
    "\n",
    "*Overall, a minimum value of n=1143 is needed to yield a significant p-value using a cut off value of 0.05.*"
   ]
  },
  {
   "cell_type": "markdown",
   "id": "5bf2e761",
   "metadata": {},
   "source": [
    "# Chapter 10\n",
    "### Excercise 10-1"
   ]
  },
  {
   "cell_type": "markdown",
   "id": "ed71781b",
   "metadata": {},
   "source": [
    "Using the data from the BRFSS, compute the linear least squares fit for log(weight) versus height."
   ]
  },
  {
   "cell_type": "code",
   "execution_count": 56,
   "id": "d5c2f3cc",
   "metadata": {},
   "outputs": [],
   "source": [
    "# Download data\n",
    "download(\"https://github.com/AllenDowney/ThinkStats2/raw/master/code/brfss.py\")\n",
    "download(\"https://github.com/AllenDowney/ThinkStats2/raw/master/code/CDBRFS08.ASC.gz\")\n",
    "\n",
    "# Import the data into dataframe\n",
    "import brfss\n",
    "df = brfss.ReadBrfss()\n",
    "\n",
    "# Trim dataset to height and weight and drop rows with missing values.\n",
    "df = df.dropna(subset=['htm3', 'wtkg2'])\n",
    "height, weight = df.htm3, df.wtkg2\n",
    "\n",
    "# Find log(weight)\n",
    "logwgt = np.log10(weight)"
   ]
  },
  {
   "cell_type": "code",
   "execution_count": 57,
   "id": "cee67b67",
   "metadata": {},
   "outputs": [],
   "source": [
    "# Import author's function to find linear least squares fit\n",
    "\n",
    "from thinkstats2 import Mean, MeanVar, Var, Std, Cov\n",
    "\n",
    "def LeastSquares(xs, ys):\n",
    "    meanx, varx = MeanVar(xs)\n",
    "    meany = Mean(ys)\n",
    "\n",
    "    slope = Cov(xs, ys, meanx, meany) / varx\n",
    "    inter = meany - slope * meanx\n",
    "\n",
    "    return inter, slope"
   ]
  },
  {
   "cell_type": "code",
   "execution_count": 59,
   "id": "914a35c4",
   "metadata": {
    "scrolled": true
   },
   "outputs": [
    {
     "data": {
      "text/plain": [
       "(0.9930804163918123, 0.005281454169417808)"
      ]
     },
     "execution_count": 59,
     "metadata": {},
     "output_type": "execute_result"
    }
   ],
   "source": [
    "inter, slope = LeastSquares(height, logwgt)\n",
    "inter, slope"
   ]
  },
  {
   "cell_type": "markdown",
   "id": "9a223e57",
   "metadata": {},
   "source": [
    "How would you best present the estimated parameters for a model like this where one of the variables is log-transformed?"
   ]
  },
  {
   "cell_type": "code",
   "execution_count": 70,
   "id": "fe4aaee2",
   "metadata": {},
   "outputs": [
    {
     "data": {
      "text/plain": [
       "0.4546117735223071"
      ]
     },
     "execution_count": 70,
     "metadata": {},
     "output_type": "execute_result"
    }
   ],
   "source": [
    "meanHeight = Mean(height)\n",
    "wgt_meanHeight = 10 ** (inter + slope * Mean(height))\n",
    "wgt_meanHeight / meanHeight"
   ]
  },
  {
   "cell_type": "markdown",
   "id": "041615d2",
   "metadata": {},
   "source": [
    "*For each cm of height, a person gains roughly 0.45 kg of weight.*"
   ]
  },
  {
   "cell_type": "code",
   "execution_count": 60,
   "id": "9b331eb5",
   "metadata": {},
   "outputs": [],
   "source": [
    "# Import author's function to find the fitted line\n",
    "\n",
    "def FitLine(xs, inter, slope):\n",
    "    fit_xs = np.sort(xs)\n",
    "    fit_ys = inter + slope * fit_xs\n",
    "    return fit_xs, fit_ys"
   ]
  },
  {
   "cell_type": "code",
   "execution_count": 73,
   "id": "10bf664e",
   "metadata": {
    "scrolled": false
   },
   "outputs": [
    {
     "data": {
      "image/png": "[encoded data removed]",
      "text/plain": [
       "<Figure size 432x288 with 1 Axes>"
      ]
     },
     "metadata": {
      "needs_background": "light"
     },
     "output_type": "display_data"
    }
   ],
   "source": [
    "fit_xs, fit_ys = FitLine(height, inter, slope)\n",
    "\n",
    "thinkplot.Scatter(height, logwgt, color='blue', alpha=0.1, s=10)\n",
    "thinkplot.Plot(fit_xs, fit_ys, color='red', linewidth=2)\n",
    "thinkplot.Config(xlabel=\"Height (cm)\",\n",
    "                 ylabel='Log Weight (kg)',\n",
    "                 legend=False)"
   ]
  },
  {
   "cell_type": "code",
   "execution_count": 74,
   "id": "c0574b78",
   "metadata": {},
   "outputs": [
    {
     "data": {
      "image/png": "[encoded data removed]",
      "text/plain": [
       "<Figure size 432x288 with 1 Axes>"
      ]
     },
     "metadata": {
      "needs_background": "light"
     },
     "output_type": "display_data"
    }
   ],
   "source": [
    "fit_xs, fit_ys = FitLine(height, inter, slope)\n",
    "\n",
    "thinkplot.Scatter(height, weight, color='blue', alpha=0.1, s=10)\n",
    "thinkplot.Plot(fit_xs, 10**fit_ys, color='red', linewidth=2)\n",
    "thinkplot.Config(xlabel=\"Height (cm)\",\n",
    "                 ylabel='Weight (kg)',\n",
    "                 legend=False)"
   ]
  },
  {
   "cell_type": "markdown",
   "id": "e220aa9a",
   "metadata": {},
   "source": [
    "If you were trying to guess someone’s weight, how much would it help to know their height? "
   ]
  },
  {
   "cell_type": "markdown",
   "id": "fbfdc6be",
   "metadata": {},
   "source": [
    "*Even without doing a log transformation, the fit line is almost linear so knowing the person's height would help with guessing the person's weight, but as you can see in the blue dot cloud, there is still a lot of variation.*"
   ]
  },
  {
   "cell_type": "code",
   "execution_count": 75,
   "id": "2571e5e9",
   "metadata": {},
   "outputs": [],
   "source": [
    "# Import author's function to calculate residuals\n",
    "def Residuals(xs, ys, inter, slope):\n",
    "    xs = np.asarray(xs)\n",
    "    ys = np.asarray(ys)\n",
    "    res = ys - (inter + slope * xs)\n",
    "    return res"
   ]
  },
  {
   "cell_type": "code",
   "execution_count": 93,
   "id": "331123a0",
   "metadata": {},
   "outputs": [],
   "source": [
    "# Add residual column to dataframe\n",
    "df['residual'] = Residuals(height, logwgt, inter, slope)"
   ]
  },
  {
   "cell_type": "code",
   "execution_count": 98,
   "id": "b24d51be",
   "metadata": {},
   "outputs": [],
   "source": [
    "# Split the data into groups by height \n",
    "bins = np.arange(50, 250, 5)\n",
    "indices = np.digitize(df.htm3, bins)\n",
    "groups = df.groupby(indices)\n",
    "\n",
    "# Calculate average height in each group\n",
    "hgt_means = [group.htm3.mean() for _, group in groups][1:-1]\n",
    "\n",
    "# Calculate CDF of the residuals of each group\n",
    "cdfs = [thinkstats2.Cdf(group.residual) for _, group in groups][1:-1]"
   ]
  },
  {
   "cell_type": "code",
   "execution_count": 96,
   "id": "ed700c41",
   "metadata": {},
   "outputs": [],
   "source": [
    "# Import author's function to plot residual percentiles against average height within each group.\n",
    "def PlotPercentiles(age_means, cdfs):\n",
    "    thinkplot.PrePlot(3)\n",
    "    for percent in [75, 50, 25]:\n",
    "        weight_percentiles = [cdf.Percentile(percent) for cdf in cdfs]\n",
    "        label = '%dth' % percent\n",
    "        thinkplot.Plot(age_means, weight_percentiles, label=label)"
   ]
  },
  {
   "cell_type": "code",
   "execution_count": 118,
   "id": "f427b837",
   "metadata": {},
   "outputs": [
    {
     "data": {
      "image/png": "[encoded data removed]",
      "text/plain": [
       "<Figure size 432x288 with 1 Axes>"
      ]
     },
     "metadata": {
      "needs_background": "light"
     },
     "output_type": "display_data"
    }
   ],
   "source": [
    "PlotPercentiles(hgt_means, cdfs)\n",
    "    \n",
    "thinkplot.Config(xlabel=\"Height (cm))\",\n",
    "                 ylabel='Residual Weight (kg)', legend=True)"
   ]
  },
  {
   "cell_type": "markdown",
   "id": "1b30b746",
   "metadata": {},
   "source": [
    "*From this residuals graph it looks like we might be able to predict a log weight value if the person's height is between roughly 140-200 cm.  Outside of this range, the predictions become much less reliable as indicated by the jumping lines and the residual values moving away from zero.*"
   ]
  },
  {
   "cell_type": "code",
   "execution_count": 119,
   "id": "4b24920c",
   "metadata": {},
   "outputs": [
    {
     "data": {
      "text/plain": [
       "True"
      ]
     },
     "execution_count": 119,
     "metadata": {},
     "output_type": "execute_result"
    }
   ],
   "source": [
    "# Calculate correlation.\n",
    "rho = thinkstats2.Corr(height, logwgt)\n",
    "\n",
    "# Calculate coefficient of determination\n",
    "# Compares residual variance to the dependent variable variance\n",
    "r2 = 1 - Var(df.residual) / Var(logwgt)\n",
    "\n",
    "# Confirm that correlation is equal to the coefficient of dertermination\n",
    "np.isclose(rho**2, r2)"
   ]
  },
  {
   "cell_type": "code",
   "execution_count": 125,
   "id": "fcc17837",
   "metadata": {},
   "outputs": [
    {
     "name": "stdout",
     "output_type": "stream",
     "text": [
      "0.10320725030004894 Without height\n",
      "0.0874077708041609 With height\n"
     ]
    },
    {
     "data": {
      "text/plain": [
       "15.308497658793407"
      ]
     },
     "execution_count": 125,
     "metadata": {},
     "output_type": "execute_result"
    }
   ],
   "source": [
    "# Calculate Std(ys) - doesn't use height\n",
    "std_ys = thinkstats2.Std(logwgt)\n",
    "print(std_ys, \"Without height\")\n",
    "\n",
    "# Calculate Std(res) - uses height\n",
    "std_res = thinkstats2.Std(df.residual)\n",
    "print(std_res, \"With height\")\n",
    "\n",
    "# How much does height improve Root Means Squared Error?\n",
    "(1 - (std_res / std_ys))*100"
   ]
  },
  {
   "cell_type": "markdown",
   "id": "57ddbcda",
   "metadata": {},
   "source": [
    "*Including the height reduces the RMSE by roughly 15.3% and thus is usful in our prediction.*"
   ]
  },
  {
   "cell_type": "markdown",
   "id": "898f310f",
   "metadata": {},
   "source": [
    "Like the NSFG, the BRFSS oversamples some groups and provides a sampling weight for each respondent. In the BRFSS data, the variable name for these weights is totalwt. Use resampling, with and without weights, to estimate: \n",
    "- the mean height of respondents in the BRFSS, \n",
    "- the standard error of the mean, and \n",
    "- a 90% confidence interval."
   ]
  },
  {
   "cell_type": "code",
   "execution_count": 142,
   "id": "8e25bfb9",
   "metadata": {},
   "outputs": [],
   "source": [
    "# Import author's functions\n",
    "def SampleRows(df, nrows, replace=False):\n",
    "    \"\"\"Choose a sample of rows from a DataFrame.\n",
    "\n",
    "    df: DataFrame\n",
    "    nrows: number of rows\n",
    "    replace: whether to sample with replacement\n",
    "\n",
    "    returns: DataDf\n",
    "    \"\"\"\n",
    "    indices = np.random.choice(df.index, nrows, replace=replace)\n",
    "    sample = df.loc[indices]\n",
    "    return sample\n",
    "\n",
    "\n",
    "def ResampleRows(df):\n",
    "    \"\"\"Resamples rows from a DataFrame.\n",
    "\n",
    "    df: DataFrame\n",
    "\n",
    "    returns: DataFrame\n",
    "    \"\"\"\n",
    "    return SampleRows(df, len(df), replace=True)\n",
    "\n",
    "\n",
    "def SamplingDistributions(live, iters=101):\n",
    "    # Returns lists of estimates of intercept and slope.\n",
    "    t = []\n",
    "    for _ in range(iters):\n",
    "        sample = ResampleRows(live)\n",
    "        ages = sample.agepreg\n",
    "        weights = sample.totalwgt_lb\n",
    "        estimates = LeastSquares(ages, weights)\n",
    "        t.append(estimates)\n",
    "\n",
    "    inters, slopes = zip(*t)\n",
    "    return inters, slopes\n",
    "\n",
    "\n",
    "def Summarize(estimates, actual=None):\n",
    "    # Returns mean, standard error, and 90% confidence interval.\n",
    "    mean = Mean(estimates)\n",
    "    stderr = Std(estimates, mu=actual)\n",
    "    cdf = thinkstats2.Cdf(estimates)\n",
    "    ci = cdf.ConfidenceInterval(90)\n",
    "    print('mean=', mean)\n",
    "    print('SE=', stderr)\n",
    "    print('CI=', ci)\n",
    "    \n",
    "    \n",
    "def ResampleRowsWeighted(df, column='finalwgt'):\n",
    "    # Resamples rows with probabilities proportional to weights\n",
    "    weights = df[column]\n",
    "    cdf = thinkstats2.Cdf(dict(weights))\n",
    "    indices = cdf.Sample(len(weights))\n",
    "    sample = df.loc[indices]\n",
    "    return sample"
   ]
  },
  {
   "cell_type": "code",
   "execution_count": 146,
   "id": "b7162e69",
   "metadata": {},
   "outputs": [
    {
     "name": "stdout",
     "output_type": "stream",
     "text": [
      "Unweighted:\n",
      "mean= 168.95477465187253\n",
      "SE= 0.015504884260857048\n",
      "CI= (168.9291820772449, 168.97875108631945)\n",
      "\n",
      " Weighted:\n",
      "mean= 170.49656245578933\n",
      "SE= 0.01587537418656807\n",
      "CI= (170.46902473776754, 170.52425523959658)\n"
     ]
    }
   ],
   "source": [
    "# Calculated summary statistics for unweighted data\n",
    "estimates_unweighted = [thinkstats2.ResampleRows(df).htm3.mean() for _ in range(100)]\n",
    "print('Unweighted:')\n",
    "Summarize(estimates_unweighted)\n",
    "\n",
    "# Calculated summary statistics for weighted data using the finalwt column\n",
    "estimates_weighted = [ResampleRowsWeighted(df, 'finalwt').htm3.mean() for _ in range(100)]\n",
    "print('\\n Weighted:')\n",
    "Summarize(estimates_weighted)"
   ]
  },
  {
   "cell_type": "markdown",
   "id": "b51424a4",
   "metadata": {},
   "source": [
    "How much does correct weighting affect the estimates?"
   ]
  },
  {
   "cell_type": "markdown",
   "id": "f9f686df",
   "metadata": {},
   "source": [
    "*The unweighted mean is just under 2 cm shorter than the weighted mean. The standard error is ever so slighlty smaller in the unweighted scenario, but is still significantly less than the value of the difference between the means.  Also the confidence intervals as narrower int he unweighted scenario.*"
   ]
  }
 ],
 "metadata": {
  "kernelspec": {
   "display_name": "Python 3 (ipykernel)",
   "language": "python",
   "name": "python3"
  },
  "language_info": {
   "codemirror_mode": {
    "name": "ipython",
    "version": 3
   },
   "file_extension": ".py",
   "mimetype": "text/x-python",
   "name": "python",
   "nbconvert_exporter": "python",
   "pygments_lexer": "ipython3",
   "version": "3.9.12"
  }
 },
 "nbformat": 4,
 "nbformat_minor": 5
}
